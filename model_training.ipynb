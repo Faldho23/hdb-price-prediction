{
 "cells": [
  {
   "cell_type": "code",
   "execution_count": 4,
   "id": "05e369cb",
   "metadata": {},
   "outputs": [],
   "source": [
    "import pandas as pd\n",
    "import numpy as np\n",
    "import joblib"
   ]
  },
  {
   "cell_type": "code",
   "execution_count": 25,
   "id": "f70e3ee3",
   "metadata": {},
   "outputs": [],
   "source": [
    "hdb_resale_data = pd.read_csv('data/processed/hdb_resale_data_final.csv', index_col=0)"
   ]
  },
  {
   "cell_type": "code",
   "execution_count": 16,
   "id": "06fbbb38",
   "metadata": {},
   "outputs": [
    {
     "data": {
      "text/plain": [
       "(249857, 13)"
      ]
     },
     "execution_count": 16,
     "metadata": {},
     "output_type": "execute_result"
    }
   ],
   "source": [
    "hdb_resale_data.shape"
   ]
  },
  {
   "cell_type": "code",
   "execution_count": 17,
   "id": "091bb1ba",
   "metadata": {},
   "outputs": [
    {
     "data": {
      "text/html": [
       "<div>\n",
       "<style scoped>\n",
       "    .dataframe tbody tr th:only-of-type {\n",
       "        vertical-align: middle;\n",
       "    }\n",
       "\n",
       "    .dataframe tbody tr th {\n",
       "        vertical-align: top;\n",
       "    }\n",
       "\n",
       "    .dataframe thead th {\n",
       "        text-align: right;\n",
       "    }\n",
       "</style>\n",
       "<table border=\"1\" class=\"dataframe\">\n",
       "  <thead>\n",
       "    <tr style=\"text-align: right;\">\n",
       "      <th></th>\n",
       "      <th>month</th>\n",
       "      <th>town</th>\n",
       "      <th>flat_type</th>\n",
       "      <th>block</th>\n",
       "      <th>street_name</th>\n",
       "      <th>storey_range</th>\n",
       "      <th>floor_area_sqm</th>\n",
       "      <th>flat_model</th>\n",
       "      <th>lease_commence_date</th>\n",
       "      <th>remaining_lease</th>\n",
       "      <th>resale_price</th>\n",
       "      <th>num_mrts_within_1km</th>\n",
       "      <th>min_dist_to_mrt_km</th>\n",
       "    </tr>\n",
       "    <tr>\n",
       "      <th>_id</th>\n",
       "      <th></th>\n",
       "      <th></th>\n",
       "      <th></th>\n",
       "      <th></th>\n",
       "      <th></th>\n",
       "      <th></th>\n",
       "      <th></th>\n",
       "      <th></th>\n",
       "      <th></th>\n",
       "      <th></th>\n",
       "      <th></th>\n",
       "      <th></th>\n",
       "      <th></th>\n",
       "    </tr>\n",
       "  </thead>\n",
       "  <tbody>\n",
       "    <tr>\n",
       "      <th>1</th>\n",
       "      <td>2015-01</td>\n",
       "      <td>ANG MO KIO</td>\n",
       "      <td>3 ROOM</td>\n",
       "      <td>174</td>\n",
       "      <td>ANG MO KIO AVE 4</td>\n",
       "      <td>07 TO 09</td>\n",
       "      <td>60.0</td>\n",
       "      <td>Improved</td>\n",
       "      <td>1986</td>\n",
       "      <td>70</td>\n",
       "      <td>255000.0</td>\n",
       "      <td>1</td>\n",
       "      <td>0.352915</td>\n",
       "    </tr>\n",
       "    <tr>\n",
       "      <th>2</th>\n",
       "      <td>2015-01</td>\n",
       "      <td>ANG MO KIO</td>\n",
       "      <td>3 ROOM</td>\n",
       "      <td>541</td>\n",
       "      <td>ANG MO KIO AVE 10</td>\n",
       "      <td>01 TO 03</td>\n",
       "      <td>68.0</td>\n",
       "      <td>New Generation</td>\n",
       "      <td>1981</td>\n",
       "      <td>65</td>\n",
       "      <td>275000.0</td>\n",
       "      <td>0</td>\n",
       "      <td>0.816023</td>\n",
       "    </tr>\n",
       "    <tr>\n",
       "      <th>3</th>\n",
       "      <td>2015-01</td>\n",
       "      <td>ANG MO KIO</td>\n",
       "      <td>3 ROOM</td>\n",
       "      <td>163</td>\n",
       "      <td>ANG MO KIO AVE 4</td>\n",
       "      <td>01 TO 03</td>\n",
       "      <td>69.0</td>\n",
       "      <td>New Generation</td>\n",
       "      <td>1980</td>\n",
       "      <td>64</td>\n",
       "      <td>285000.0</td>\n",
       "      <td>1</td>\n",
       "      <td>0.229604</td>\n",
       "    </tr>\n",
       "    <tr>\n",
       "      <th>4</th>\n",
       "      <td>2015-01</td>\n",
       "      <td>ANG MO KIO</td>\n",
       "      <td>3 ROOM</td>\n",
       "      <td>446</td>\n",
       "      <td>ANG MO KIO AVE 10</td>\n",
       "      <td>01 TO 03</td>\n",
       "      <td>68.0</td>\n",
       "      <td>New Generation</td>\n",
       "      <td>1979</td>\n",
       "      <td>63</td>\n",
       "      <td>290000.0</td>\n",
       "      <td>1</td>\n",
       "      <td>0.664472</td>\n",
       "    </tr>\n",
       "    <tr>\n",
       "      <th>5</th>\n",
       "      <td>2015-01</td>\n",
       "      <td>ANG MO KIO</td>\n",
       "      <td>3 ROOM</td>\n",
       "      <td>557</td>\n",
       "      <td>ANG MO KIO AVE 10</td>\n",
       "      <td>07 TO 09</td>\n",
       "      <td>68.0</td>\n",
       "      <td>New Generation</td>\n",
       "      <td>1980</td>\n",
       "      <td>64</td>\n",
       "      <td>290000.0</td>\n",
       "      <td>0</td>\n",
       "      <td>0.923402</td>\n",
       "    </tr>\n",
       "  </tbody>\n",
       "</table>\n",
       "</div>"
      ],
      "text/plain": [
       "       month        town flat_type block        street_name storey_range  \\\n",
       "_id                                                                        \n",
       "1    2015-01  ANG MO KIO    3 ROOM   174   ANG MO KIO AVE 4     07 TO 09   \n",
       "2    2015-01  ANG MO KIO    3 ROOM   541  ANG MO KIO AVE 10     01 TO 03   \n",
       "3    2015-01  ANG MO KIO    3 ROOM   163   ANG MO KIO AVE 4     01 TO 03   \n",
       "4    2015-01  ANG MO KIO    3 ROOM   446  ANG MO KIO AVE 10     01 TO 03   \n",
       "5    2015-01  ANG MO KIO    3 ROOM   557  ANG MO KIO AVE 10     07 TO 09   \n",
       "\n",
       "     floor_area_sqm      flat_model  lease_commence_date  remaining_lease  \\\n",
       "_id                                                                         \n",
       "1              60.0        Improved                 1986               70   \n",
       "2              68.0  New Generation                 1981               65   \n",
       "3              69.0  New Generation                 1980               64   \n",
       "4              68.0  New Generation                 1979               63   \n",
       "5              68.0  New Generation                 1980               64   \n",
       "\n",
       "     resale_price  num_mrts_within_1km  min_dist_to_mrt_km  \n",
       "_id                                                         \n",
       "1        255000.0                    1            0.352915  \n",
       "2        275000.0                    0            0.816023  \n",
       "3        285000.0                    1            0.229604  \n",
       "4        290000.0                    1            0.664472  \n",
       "5        290000.0                    0            0.923402  "
      ]
     },
     "execution_count": 17,
     "metadata": {},
     "output_type": "execute_result"
    }
   ],
   "source": [
    "hdb_resale_data.head()"
   ]
  },
  {
   "cell_type": "code",
   "execution_count": 8,
   "id": "65dbe9d2",
   "metadata": {},
   "outputs": [],
   "source": [
    "from sklearn.pipeline import Pipeline\n",
    "from sklearn.compose import ColumnTransformer\n",
    "from sklearn.preprocessing import StandardScaler, OneHotEncoder"
   ]
  },
  {
   "cell_type": "code",
   "execution_count": 7,
   "id": "20507ce6",
   "metadata": {},
   "outputs": [],
   "source": [
    "def create_preprocessor(numerical_cols, categorical_cols):\n",
    "    numerical_transformer = Pipeline(steps=[\n",
    "        (\"scaler\", StandardScaler())\n",
    "    ])\n",
    "    \n",
    "    categorical_transformer = Pipeline(steps=[\n",
    "        (\"onehot\", OneHotEncoder(handle_unknown=\"ignore\", sparse_output=False))\n",
    "    ])\n",
    "    \n",
    "    preprocessor = ColumnTransformer(\n",
    "        transformers=[\n",
    "            ('num', numerical_transformer, numerical_cols),\n",
    "            ('cat', categorical_transformer, categorical_cols)\n",
    "        ]\n",
    "    )\n",
    "    \n",
    "    return preprocessor"
   ]
  },
  {
   "cell_type": "markdown",
   "id": "841c3dbb",
   "metadata": {},
   "source": [
    "<h2> Basic Linear Regression"
   ]
  },
  {
   "cell_type": "code",
   "execution_count": 9,
   "id": "603fb983",
   "metadata": {},
   "outputs": [],
   "source": [
    "from sklearn.linear_model import LinearRegression\n",
    "from sklearn.model_selection import KFold, cross_val_score, GridSearchCV\n",
    "from sklearn.metrics import make_scorer, mean_squared_error\n",
    "from sklearn.model_selection import cross_validate"
   ]
  },
  {
   "cell_type": "code",
   "execution_count": 8,
   "id": "218144ed",
   "metadata": {},
   "outputs": [],
   "source": [
    "kf = KFold(n_splits=5, shuffle=True, random_state=42)"
   ]
  },
  {
   "cell_type": "code",
   "execution_count": 12,
   "id": "f7813594",
   "metadata": {},
   "outputs": [],
   "source": [
    "y = np.log(hdb_resale_data['resale_price'])  "
   ]
  },
  {
   "cell_type": "code",
   "execution_count": 14,
   "id": "96a4705f",
   "metadata": {},
   "outputs": [],
   "source": [
    "numerical_columns_linreg = hdb_resale_data.select_dtypes(include=['int64', 'float64']).columns.drop(['resale_price', 'lease_commence_date', 'num_mrts_within_1km'])\n",
    "categorical_columns_linreg = hdb_resale_data.select_dtypes(include=['object', 'category']).columns.drop(['month', 'block'])\n",
    "\n",
    "preprocessor_linreg = create_preprocessor(numerical_columns_linreg, categorical_columns_linreg)\n",
    "\n",
    "X_linreg = hdb_resale_data.drop(['month', 'block', 'resale_price', 'lease_commence_date', 'num_mrts_within_1km'], axis=1)\n",
    "\n",
    "X_processed_linreg = preprocessor_linreg.fit_transform(X_linreg)"
   ]
  },
  {
   "cell_type": "code",
   "execution_count": null,
   "id": "a1112df0",
   "metadata": {},
   "outputs": [
    {
     "name": "stdout",
     "output_type": "stream",
     "text": [
      "Average R² score: 0.7575195793383349\n",
      "Average RMSE: 0.16793482289514844\n"
     ]
    },
    {
     "data": {
      "text/plain": [
       "['models/linear_regression.pkl']"
      ]
     },
     "execution_count": 25,
     "metadata": {},
     "output_type": "execute_result"
    }
   ],
   "source": [
    "# ------------------------------------------------------------------------------\n",
    "# Training Random Forest Regressor\n",
    "# ------------------------------------------------------------------------------\n",
    "\n",
    "'''\n",
    "linreg_model = LinearRegression()\n",
    "\n",
    "scoring = {\n",
    "    \"r2\": \"r2\",\n",
    "    \"rmse\": make_scorer(\n",
    "        lambda y_true, y_pred: np.sqrt(mean_squared_error(y_true, y_pred))\n",
    "    )\n",
    "}\n",
    "\n",
    "cv_results = cross_validate(linreg_model, X_processed_linreg, y, cv=kf, scoring=scoring)\n",
    "\n",
    "print(\"Average R² score:\", np.mean(cv_results[\"test_r2\"]))\n",
    "print(\"Average RMSE:\", np.mean(cv_results[\"test_rmse\"]))\n",
    "\n",
    "# Final fit on full dataset\n",
    "linreg_model.fit(X_processed_linreg, y)\n",
    "joblib.dump(linreg_model, \"models/linear_regression.pkl\")\n",
    "'''"
   ]
  },
  {
   "cell_type": "code",
   "execution_count": 28,
   "id": "8f9923e7",
   "metadata": {},
   "outputs": [],
   "source": [
    "# Load Linear Regression model\n",
    "linreg_model = joblib.load(\"models/linear_regression.pkl\")"
   ]
  },
  {
   "cell_type": "markdown",
   "id": "18d8708e",
   "metadata": {},
   "source": [
    "<h2> Ridge Regression Model"
   ]
  },
  {
   "cell_type": "code",
   "execution_count": 57,
   "id": "5076a898",
   "metadata": {},
   "outputs": [],
   "source": [
    "from sklearn.linear_model import Ridge"
   ]
  },
  {
   "cell_type": "code",
   "execution_count": null,
   "id": "71a7cc00",
   "metadata": {},
   "outputs": [],
   "source": [
    "numerical_columns_ridge = hdb_resale_data.select_dtypes(include=['int64', 'float64']).columns.drop(['resale_price'])\n",
    "categorical_columns_ridge = hdb_resale_data.select_dtypes(include=['object', 'category']).columns.drop(['month', 'block'])\n",
    "\n",
    "preprocessor_ridge = create_preprocessor(numerical_columns_ridge, categorical_columns_ridge)\n",
    "\n",
    "X_ridge = hdb_resale_data.drop(['month', 'block'], axis=1)\n",
    "\n",
    "X_processed_ridge = preprocessor_ridge.fit_transform(X_ridge)"
   ]
  },
  {
   "cell_type": "code",
   "execution_count": null,
   "id": "fcf81835",
   "metadata": {},
   "outputs": [
    {
     "name": "stdout",
     "output_type": "stream",
     "text": [
      "Best alpha: {'alpha': 100}\n",
      "Best R²: 0.7457609188504882\n"
     ]
    },
    {
     "data": {
      "text/plain": [
       "['models/ridge_regression_gridsearch.pkl']"
      ]
     },
     "execution_count": 16,
     "metadata": {},
     "output_type": "execute_result"
    }
   ],
   "source": [
    "# ------------------------------------------------------------------------------\n",
    "# Training Lasso Regression\n",
    "# ------------------------------------------------------------------------------\n",
    "\n",
    "'''\n",
    "params_ridge = {'alpha': [0.01, 0.1, 1, 10, 100]}\n",
    "ridge_model = Ridge()\n",
    "\n",
    "grid_ridge = GridSearchCV(ridge_model, params_ridge, cv=5, scoring='r2')\n",
    "grid_ridge.fit(X_processed_ridge, y)\n",
    "\n",
    "print(\"Best alpha:\", grid_ridge.best_params_)\n",
    "print(\"Best R²:\", grid_ridge.best_score_)\n",
    "\n",
    "joblib.dump(grid_ridge, \"models/ridge_regression_gridsearch.pkl\")\n",
    "'''"
   ]
  },
  {
   "cell_type": "code",
   "execution_count": 48,
   "id": "efb8217e",
   "metadata": {},
   "outputs": [],
   "source": [
    "# Load Ridge Regression model\n",
    "grid_ridge = joblib.load(\"models/ridge_regression_gridsearch.pkl\")"
   ]
  },
  {
   "cell_type": "markdown",
   "id": "d1d0b348",
   "metadata": {},
   "source": [
    "<h2> Random Forest Regression"
   ]
  },
  {
   "cell_type": "code",
   "execution_count": 58,
   "id": "f7260bbb",
   "metadata": {},
   "outputs": [],
   "source": [
    "from sklearn.ensemble import RandomForestRegressor"
   ]
  },
  {
   "cell_type": "code",
   "execution_count": null,
   "id": "f497e2b4",
   "metadata": {},
   "outputs": [
    {
     "name": "stdout",
     "output_type": "stream",
     "text": [
      "Fitting 5 folds for each of 4 candidates, totalling 20 fits\n",
      "[CV] END max_depth=None, min_samples_split=2, n_estimators=100; total time=15.7min\n",
      "[CV] END max_depth=None, min_samples_split=2, n_estimators=100; total time=15.2min\n",
      "[CV] END max_depth=None, min_samples_split=2, n_estimators=100; total time=15.3min\n",
      "[CV] END max_depth=None, min_samples_split=2, n_estimators=100; total time=15.0min\n",
      "[CV] END max_depth=None, min_samples_split=2, n_estimators=100; total time=14.5min\n",
      "[CV] END max_depth=None, min_samples_split=2, n_estimators=200; total time=29.1min\n",
      "[CV] END max_depth=None, min_samples_split=2, n_estimators=200; total time=29.0min\n",
      "[CV] END max_depth=None, min_samples_split=2, n_estimators=200; total time=29.5min\n",
      "[CV] END max_depth=None, min_samples_split=2, n_estimators=200; total time=29.1min\n",
      "[CV] END max_depth=None, min_samples_split=2, n_estimators=200; total time=28.4min\n",
      "[CV] END max_depth=10, min_samples_split=2, n_estimators=100; total time=10.3min\n",
      "[CV] END max_depth=10, min_samples_split=2, n_estimators=100; total time=10.2min\n",
      "[CV] END max_depth=10, min_samples_split=2, n_estimators=100; total time=10.2min\n",
      "[CV] END max_depth=10, min_samples_split=2, n_estimators=100; total time=10.2min\n",
      "[CV] END max_depth=10, min_samples_split=2, n_estimators=100; total time=11.7min\n",
      "[CV] END max_depth=10, min_samples_split=2, n_estimators=200; total time=23.0min\n",
      "[CV] END max_depth=10, min_samples_split=2, n_estimators=200; total time=21.2min\n",
      "[CV] END max_depth=10, min_samples_split=2, n_estimators=200; total time=21.5min\n",
      "[CV] END max_depth=10, min_samples_split=2, n_estimators=200; total time=21.2min\n",
      "[CV] END max_depth=10, min_samples_split=2, n_estimators=200; total time=21.7min\n",
      "Best parameters: {'max_depth': None, 'min_samples_split': 2, 'n_estimators': 200}\n",
      "Best R²: 0.9615249535342307\n"
     ]
    }
   ],
   "source": [
    "# ------------------------------------------------------------------------------\n",
    "# Training Random Forest Regressor\n",
    "# ------------------------------------------------------------------------------\n",
    "\n",
    "'''\n",
    "X_processed_rf = X_processed_linreg\n",
    "\n",
    "params_rf = {\n",
    "    'n_estimators': [100, 200],\n",
    "    'max_depth': [None, 10],\n",
    "    'min_samples_split': [2]\n",
    "}\n",
    "\n",
    "rf_model = RandomForestRegressor(random_state=42)\n",
    "\n",
    "grid_rf = GridSearchCV(\n",
    "    rf_model, \n",
    "    param_grid=params_rf,\n",
    "    cv=kf,\n",
    "    scoring='r2',\n",
    "    n_jobs=1, \n",
    "    verbose=2)\n",
    "\n",
    "grid_rf.fit(X_processed_rf, y)\n",
    "\n",
    "print(\"Best parameters:\", grid_rf.best_params_)\n",
    "print(\"Best R²:\", grid_rf.best_score_)\n",
    "\n",
    "# Save\n",
    "joblib.dump(grid_rf, \"models/random_forest_gridsearch.pkl\")\n",
    "'''"
   ]
  },
  {
   "cell_type": "code",
   "execution_count": 39,
   "id": "f0449eea",
   "metadata": {},
   "outputs": [
    {
     "name": "stdout",
     "output_type": "stream",
     "text": [
      "Best parameters: RandomForestRegressor(n_estimators=200, random_state=42)\n"
     ]
    }
   ],
   "source": [
    "# Load Random Forest model\n",
    "grid_rf = joblib.load(\"models/random_forest_gridsearch.pkl\")\n",
    "print(\"Best parameters:\", grid_rf.best_estimator_)"
   ]
  },
  {
   "cell_type": "code",
   "execution_count": null,
   "id": "f4323da1",
   "metadata": {},
   "outputs": [
    {
     "name": "stdout",
     "output_type": "stream",
     "text": [
      "Train R²: 0.9934\n",
      "Test R² : 0.9932\n"
     ]
    },
    {
     "data": {
      "image/png": "[encoded data removed]",
      "text/plain": [
       "<Figure size 800x600 with 1 Axes>"
      ]
     },
     "metadata": {},
     "output_type": "display_data"
    }
   ],
   "source": [
    "from sklearn.model_selection import train_test_split, learning_curve\n",
    "from sklearn.metrics import r2_score\n",
    "import matplotlib.pyplot as plt\n",
    "\n",
    "X_processed_rf = X_processed_linreg\n",
    "\n",
    "# Instead of retraining, just grab the trained best model\n",
    "best_rf = grid_rf.best_estimator_\n",
    "\n",
    "# Split into train and test for evaluation\n",
    "X_train, X_test, y_train, y_test = train_test_split(\n",
    "    X_processed_rf, y, test_size=0.2, random_state=42\n",
    ")\n",
    "\n",
    "# Check R²\n",
    "train_r2 = r2_score(y_train, best_rf.predict(X_train))\n",
    "test_r2 = r2_score(y_test, best_rf.predict(X_test))\n",
    "\n",
    "print(f\"Train R²: {train_r2:.4f}\")\n",
    "print(f\"Test R² : {test_r2:.4f}\")\n",
    "\n",
    "# --- Learning curve ---\n",
    "train_sizes, train_scores, test_scores = learning_curve(\n",
    "    best_rf, X_processed_rf, y, cv=5, n_jobs=1,\n",
    "    train_sizes=np.linspace(0.1, 1.0, 6),\n",
    "    scoring=\"r2\"\n",
    ")\n",
    "\n",
    "# Compute mean/std\n",
    "train_mean = np.mean(train_scores, axis=1)\n",
    "train_std = np.std(train_scores, axis=1)\n",
    "test_mean = np.mean(test_scores, axis=1)\n",
    "test_std = np.std(test_scores, axis=1)\n",
    "\n",
    "# Plot\n",
    "plt.figure(figsize=(8,6))\n",
    "plt.plot(train_sizes, train_mean, 'o-', label=\"Training R²\")\n",
    "plt.fill_between(train_sizes, train_mean - train_std, train_mean + train_std, alpha=0.2)\n",
    "\n",
    "plt.plot(train_sizes, test_mean, 'o-', label=\"Validation R²\")\n",
    "plt.fill_between(train_sizes, test_mean - test_std, test_mean + test_std, alpha=0.2)\n",
    "\n",
    "plt.xlabel(\"Training Set Size\")\n",
    "plt.ylabel(\"R² Score\")\n",
    "plt.title(\"Learning Curve for Random Forest (best model)\")\n",
    "plt.legend()\n",
    "plt.grid(True)\n",
    "plt.show()\n"
   ]
  },
  {
   "cell_type": "markdown",
   "id": "99300397",
   "metadata": {},
   "source": [
    "<h2> XGBoost Model"
   ]
  },
  {
   "cell_type": "code",
   "execution_count": 59,
   "id": "e38f6794",
   "metadata": {},
   "outputs": [],
   "source": [
    "from xgboost import XGBRegressor"
   ]
  },
  {
   "cell_type": "code",
   "execution_count": null,
   "id": "3f7766fa",
   "metadata": {},
   "outputs": [
    {
     "name": "stdout",
     "output_type": "stream",
     "text": [
      "Fitting 5 folds for each of 6 candidates, totalling 30 fits\n",
      "Best parameters: {'colsample_bytree': 0.8, 'learning_rate': 0.1, 'max_depth': 8, 'n_estimators': 500, 'subsample': 0.8}\n",
      "Best R²: 0.8005152323989645\n"
     ]
    }
   ],
   "source": [
    "# ------------------------------------------------------------------------------\n",
    "# Training Random Forest Regressor\n",
    "# ------------------------------------------------------------------------------\n",
    "\n",
    "'''\n",
    "X_processed_xgb = X_processed_linreg\n",
    "\n",
    "param_grid_xgb = {\n",
    "    'n_estimators': [200, 500],\n",
    "    'max_depth': [4, 6, 8],\n",
    "    'learning_rate': [0.1],\n",
    "    'subsample': [0.8],\n",
    "    'colsample_bytree': [0.8]\n",
    "}\n",
    "\n",
    "xgb_model = XGBRegressor(random_state=42)\n",
    "\n",
    "grid_xgb = GridSearchCV(\n",
    "    xgb_model, \n",
    "    param_grid=param_grid_xgb, \n",
    "    cv=5, \n",
    "    scoring='r2', \n",
    "    n_jobs=2,\n",
    "    verbose=2)\n",
    "\n",
    "grid_xgb.fit(X_processed_xgb, y)\n",
    "\n",
    "print(\"Best parameters:\", grid_xgb.best_params_)\n",
    "print(\"Best R²:\", grid_xgb.best_score_)\n",
    "\n",
    "joblib.dump(grid_xgb, \"models/xgb_gridsearch.pkl\")\n",
    "'''"
   ]
  },
  {
   "cell_type": "code",
   "execution_count": 32,
   "id": "a48d507f",
   "metadata": {},
   "outputs": [
    {
     "name": "stdout",
     "output_type": "stream",
     "text": [
      "Best parameters: XGBRegressor(base_score=None, booster=None, callbacks=None,\n",
      "             colsample_bylevel=None, colsample_bynode=None,\n",
      "             colsample_bytree=0.8, device=None, early_stopping_rounds=None,\n",
      "             enable_categorical=False, eval_metric=None, feature_types=None,\n",
      "             feature_weights=None, gamma=None, grow_policy=None,\n",
      "             importance_type=None, interaction_constraints=None,\n",
      "             learning_rate=0.1, max_bin=None, max_cat_threshold=None,\n",
      "             max_cat_to_onehot=None, max_delta_step=None, max_depth=8,\n",
      "             max_leaves=None, min_child_weight=None, missing=nan,\n",
      "             monotone_constraints=None, multi_strategy=None, n_estimators=500,\n",
      "             n_jobs=None, num_parallel_tree=None, ...)\n"
     ]
    }
   ],
   "source": [
    "# Load XGB model\n",
    "grid_xgb = joblib.load(\"models/xgb_gridsearch.pkl\")\n",
    "print(\"Best parameters:\", grid_xgb.best_estimator_)"
   ]
  },
  {
   "cell_type": "markdown",
   "id": "248d47d9",
   "metadata": {},
   "source": [
    "<h1>All model Evaluation"
   ]
  },
  {
   "cell_type": "code",
   "execution_count": 54,
   "id": "b85846f7",
   "metadata": {},
   "outputs": [],
   "source": [
    "from sklearn.model_selection import train_test_split"
   ]
  },
  {
   "cell_type": "code",
   "execution_count": 49,
   "id": "30c05dc8",
   "metadata": {},
   "outputs": [
    {
     "name": "stdout",
     "output_type": "stream",
     "text": [
      "Evaluate: LinearRegression\n",
      "Best MSE: 0.0283449602712867\n",
      "Best RMSE: 0.16835961591571388\n",
      "Best R-squared: 0.7580881194124137\n",
      "\n",
      "Evaluate: RidgeRegression\n",
      "Best MSE: 0.028344966047244322\n",
      "Best RMSE: 0.1683596330693445\n",
      "Best R-squared: 0.7580880701171331\n",
      "\n",
      "Evaluate: RandomForest\n",
      "Best MSE: 0.0007925026773515388\n",
      "Best RMSE: 0.028151424073242528\n",
      "Best R-squared: 0.993236335094002\n",
      "\n",
      "Evaluate: XGBoost\n",
      "Best MSE: 0.007564128205273953\n",
      "Best RMSE: 0.08697199667291738\n",
      "Best R-squared: 0.9354434629073354\n",
      "\n"
     ]
    }
   ],
   "source": [
    "X_train, X_test, y_train, y_test = train_test_split(X_processed_linreg, y, test_size=0.2, random_state=42)\n",
    "\n",
    "models = {\n",
    "    'LinearRegression': linreg_model,\n",
    "    'RidgeRegression': grid_ridge,\n",
    "    'RandomForest': grid_rf,\n",
    "    'XGBoost': grid_xgb\n",
    "}\n",
    "\n",
    "for model_name, model in models.items():\n",
    "    print(f'Evaluate: {model_name}')\n",
    "\n",
    "    y_pred = models[model_name].predict(X_test)\n",
    "\n",
    "    mse = mean_squared_error(y_test, y_pred)\n",
    "    r2 = r2_score(y_test, y_pred)\n",
    "\n",
    "    print(f'Best MSE: {mse}')\n",
    "    print(f'Best RMSE: {np.sqrt(mse)}')\n",
    "    print(f'Best R-squared: {r2}\\n')\n"
   ]
  },
  {
   "cell_type": "markdown",
   "id": "cc28c482",
   "metadata": {},
   "source": [
    "<h2>POST COVID DATA ONLY"
   ]
  },
  {
   "cell_type": "code",
   "execution_count": 29,
   "id": "a17c52e5",
   "metadata": {},
   "outputs": [
    {
     "data": {
      "text/html": [
       "<div>\n",
       "<style scoped>\n",
       "    .dataframe tbody tr th:only-of-type {\n",
       "        vertical-align: middle;\n",
       "    }\n",
       "\n",
       "    .dataframe tbody tr th {\n",
       "        vertical-align: top;\n",
       "    }\n",
       "\n",
       "    .dataframe thead th {\n",
       "        text-align: right;\n",
       "    }\n",
       "</style>\n",
       "<table border=\"1\" class=\"dataframe\">\n",
       "  <thead>\n",
       "    <tr style=\"text-align: right;\">\n",
       "      <th></th>\n",
       "      <th>month</th>\n",
       "      <th>town</th>\n",
       "      <th>flat_type</th>\n",
       "      <th>block</th>\n",
       "      <th>street_name</th>\n",
       "      <th>storey_range</th>\n",
       "      <th>floor_area_sqm</th>\n",
       "      <th>flat_model</th>\n",
       "      <th>lease_commence_date</th>\n",
       "      <th>remaining_lease</th>\n",
       "      <th>resale_price</th>\n",
       "      <th>num_mrts_within_1km</th>\n",
       "      <th>min_dist_to_mrt_km</th>\n",
       "    </tr>\n",
       "    <tr>\n",
       "      <th>_id</th>\n",
       "      <th></th>\n",
       "      <th></th>\n",
       "      <th></th>\n",
       "      <th></th>\n",
       "      <th></th>\n",
       "      <th></th>\n",
       "      <th></th>\n",
       "      <th></th>\n",
       "      <th></th>\n",
       "      <th></th>\n",
       "      <th></th>\n",
       "      <th></th>\n",
       "      <th></th>\n",
       "    </tr>\n",
       "  </thead>\n",
       "  <tbody>\n",
       "    <tr>\n",
       "      <th>64257</th>\n",
       "      <td>2020-01-01</td>\n",
       "      <td>ANG MO KIO</td>\n",
       "      <td>3 ROOM</td>\n",
       "      <td>208</td>\n",
       "      <td>ANG MO KIO AVE 1</td>\n",
       "      <td>04 TO 06</td>\n",
       "      <td>73.0</td>\n",
       "      <td>New Generation</td>\n",
       "      <td>1976</td>\n",
       "      <td>55</td>\n",
       "      <td>265000.0</td>\n",
       "      <td>0</td>\n",
       "      <td>0.902255</td>\n",
       "    </tr>\n",
       "    <tr>\n",
       "      <th>64258</th>\n",
       "      <td>2020-01-01</td>\n",
       "      <td>ANG MO KIO</td>\n",
       "      <td>3 ROOM</td>\n",
       "      <td>307C</td>\n",
       "      <td>ANG MO KIO AVE 1</td>\n",
       "      <td>19 TO 21</td>\n",
       "      <td>70.0</td>\n",
       "      <td>Model A</td>\n",
       "      <td>2012</td>\n",
       "      <td>91</td>\n",
       "      <td>470000.0</td>\n",
       "      <td>1</td>\n",
       "      <td>0.674136</td>\n",
       "    </tr>\n",
       "    <tr>\n",
       "      <th>64259</th>\n",
       "      <td>2020-01-01</td>\n",
       "      <td>ANG MO KIO</td>\n",
       "      <td>3 ROOM</td>\n",
       "      <td>319</td>\n",
       "      <td>ANG MO KIO AVE 1</td>\n",
       "      <td>01 TO 03</td>\n",
       "      <td>73.0</td>\n",
       "      <td>New Generation</td>\n",
       "      <td>1977</td>\n",
       "      <td>56</td>\n",
       "      <td>230000.0</td>\n",
       "      <td>1</td>\n",
       "      <td>0.563682</td>\n",
       "    </tr>\n",
       "    <tr>\n",
       "      <th>64260</th>\n",
       "      <td>2020-01-01</td>\n",
       "      <td>ANG MO KIO</td>\n",
       "      <td>3 ROOM</td>\n",
       "      <td>216</td>\n",
       "      <td>ANG MO KIO AVE 1</td>\n",
       "      <td>04 TO 06</td>\n",
       "      <td>73.0</td>\n",
       "      <td>New Generation</td>\n",
       "      <td>1976</td>\n",
       "      <td>55</td>\n",
       "      <td>280000.0</td>\n",
       "      <td>0</td>\n",
       "      <td>0.836529</td>\n",
       "    </tr>\n",
       "    <tr>\n",
       "      <th>64261</th>\n",
       "      <td>2020-01-01</td>\n",
       "      <td>ANG MO KIO</td>\n",
       "      <td>3 ROOM</td>\n",
       "      <td>556</td>\n",
       "      <td>ANG MO KIO AVE 10</td>\n",
       "      <td>07 TO 09</td>\n",
       "      <td>68.0</td>\n",
       "      <td>New Generation</td>\n",
       "      <td>1980</td>\n",
       "      <td>59</td>\n",
       "      <td>220000.0</td>\n",
       "      <td>0</td>\n",
       "      <td>0.923578</td>\n",
       "    </tr>\n",
       "  </tbody>\n",
       "</table>\n",
       "</div>"
      ],
      "text/plain": [
       "           month        town flat_type block        street_name storey_range  \\\n",
       "_id                                                                            \n",
       "64257 2020-01-01  ANG MO KIO    3 ROOM   208   ANG MO KIO AVE 1     04 TO 06   \n",
       "64258 2020-01-01  ANG MO KIO    3 ROOM  307C   ANG MO KIO AVE 1     19 TO 21   \n",
       "64259 2020-01-01  ANG MO KIO    3 ROOM   319   ANG MO KIO AVE 1     01 TO 03   \n",
       "64260 2020-01-01  ANG MO KIO    3 ROOM   216   ANG MO KIO AVE 1     04 TO 06   \n",
       "64261 2020-01-01  ANG MO KIO    3 ROOM   556  ANG MO KIO AVE 10     07 TO 09   \n",
       "\n",
       "       floor_area_sqm      flat_model  lease_commence_date  remaining_lease  \\\n",
       "_id                                                                           \n",
       "64257            73.0  New Generation                 1976               55   \n",
       "64258            70.0         Model A                 2012               91   \n",
       "64259            73.0  New Generation                 1977               56   \n",
       "64260            73.0  New Generation                 1976               55   \n",
       "64261            68.0  New Generation                 1980               59   \n",
       "\n",
       "       resale_price  num_mrts_within_1km  min_dist_to_mrt_km  \n",
       "_id                                                           \n",
       "64257      265000.0                    0            0.902255  \n",
       "64258      470000.0                    1            0.674136  \n",
       "64259      230000.0                    1            0.563682  \n",
       "64260      280000.0                    0            0.836529  \n",
       "64261      220000.0                    0            0.923578  "
      ]
     },
     "execution_count": 29,
     "metadata": {},
     "output_type": "execute_result"
    }
   ],
   "source": [
    "hdb_resale_data['month'] = pd.to_datetime(hdb_resale_data['month'])\n",
    "hdb_resale_from_2020 = hdb_resale_data[hdb_resale_data['month'] >= '2020-01-01']\n",
    "\n",
    "hdb_resale_from_2020.head()"
   ]
  },
  {
   "cell_type": "code",
   "execution_count": 84,
   "id": "3b5ce7c3",
   "metadata": {},
   "outputs": [
    {
     "name": "stdout",
     "output_type": "stream",
     "text": [
      "(148448, 651)\n",
      "(148448,)\n"
     ]
    }
   ],
   "source": [
    "num_cols = hdb_resale_from_2020.select_dtypes(include=['int64', 'float64']).columns.drop(['resale_price'])\n",
    "cat_cols = hdb_resale_from_2020.select_dtypes(include=['object', 'category']).columns.drop(['block', 'street_name'])\n",
    "\n",
    "preprocessor = create_preprocessor(num_cols, cat_cols)\n",
    "\n",
    "X = hdb_resale_from_2020.drop(['month', 'block'], axis=1)\n",
    "\n",
    "X_processed = preprocessor_ridge.fit_transform(X)\n",
    "y = np.log(hdb_resale_from_2020['resale_price'])\n",
    "\n",
    "print(X_processed.shape)\n",
    "print(y.shape)"
   ]
  },
  {
   "cell_type": "code",
   "execution_count": 55,
   "id": "bc82af4d",
   "metadata": {},
   "outputs": [],
   "source": [
    "X_train, X_test, y_train, y_test = train_test_split(X_processed, y, test_size=0.2, random_state=42)"
   ]
  },
  {
   "cell_type": "code",
   "execution_count": 63,
   "id": "73caeab6",
   "metadata": {},
   "outputs": [
    {
     "name": "stdout",
     "output_type": "stream",
     "text": [
      "Training and tuning Linear_Regression...\n",
      "Fitting 3 folds for each of 1 candidates, totalling 3 fits\n",
      "Best parameters for Linear_Regression: {}\n",
      "Best R2 for Linear_Regression: 0.9495891055166523\n",
      "\n",
      "Training and tuning Random_Forest...\n",
      "Fitting 3 folds for each of 4 candidates, totalling 12 fits\n",
      "Best parameters for Random_Forest: {'max_depth': 30, 'min_samples_split': 2, 'n_estimators': 200}\n",
      "Best R2 for Random_Forest: 0.9594833503401877\n",
      "\n",
      "Training and tuning XGB...\n",
      "Fitting 3 folds for each of 4 candidates, totalling 12 fits\n",
      "Best parameters for XGB: {'learning_rate': 0.1, 'max_depth': 6, 'n_estimators': 200}\n",
      "Best R2 for XGB: 0.9457526706108057\n",
      "\n"
     ]
    }
   ],
   "source": [
    "models = {\n",
    "    'Linear_Regression': LinearRegression(),\n",
    "    'Random_Forest': RandomForestRegressor(),\n",
    "    'XGB':XGBRegressor()\n",
    "}\n",
    "\n",
    "param_grids = {\n",
    "    'Linear_Regression' : {},\n",
    "    'Random_Forest' : {\n",
    "        'n_estimators': [100, 200],\n",
    "        'max_depth': [10, 30],\n",
    "        'min_samples_split': [2],\n",
    "    },\n",
    "    'XGB' : {\n",
    "        'n_estimators': [100, 200],\n",
    "        'learning_rate': [0.1],\n",
    "        'max_depth': [3, 6],\n",
    "    }\n",
    "}\n",
    "\n",
    "cv = KFold(n_splits=3, shuffle=True, random_state=42)\n",
    "\n",
    "grids = {}\n",
    "for model_name, model in models.items():\n",
    "    print(f'Training and tuning {model_name}...')\n",
    "    grids[model_name] = GridSearchCV(\n",
    "        estimator=model,\n",
    "        param_grid=param_grids[model_name],\n",
    "        cv=cv, scoring='r2', n_jobs=-1, verbose=2\n",
    "    )\n",
    "    grids[model_name].fit(X_train, y_train)\n",
    "\n",
    "    print(f'Best parameters for {model_name}: {grids[model_name].best_params_}')\n",
    "    print(f'Best R2 for {model_name}: {grids[model_name].best_score_}\\n')\n",
    "\n",
    "    joblib.dump(grids[model_name], f'models/{model_name.lower()}_from2020_gridsearch.pkl')\n"
   ]
  },
  {
   "cell_type": "code",
   "execution_count": 64,
   "id": "08a3dad1",
   "metadata": {},
   "outputs": [
    {
     "name": "stdout",
     "output_type": "stream",
     "text": [
      "Linear_Regression -> Train R2: 0.9504, Test R2: 0.9501, Test RMSE: 0.07\n",
      "Random_Forest -> Train R2: 0.9926, Test R2: 0.9646, Test RMSE: 0.06\n",
      "XGB -> Train R2: 0.9503, Test R2: 0.9471, Test RMSE: 0.08\n"
     ]
    }
   ],
   "source": [
    "from sklearn.metrics import r2_score, mean_squared_error\n",
    "import numpy as np\n",
    "\n",
    "for model_name, grid in grids.items():\n",
    "    y_pred_train = grid.predict(X_train)\n",
    "    y_pred_test = grid.predict(X_test)\n",
    "\n",
    "    r2_train = r2_score(y_train, y_pred_train)\n",
    "    r2_test = r2_score(y_test, y_pred_test)\n",
    "    rmse_test = np.sqrt(mean_squared_error(y_test, y_pred_test))\n",
    "\n",
    "    print(f\"{model_name} -> Train R2: {r2_train:.4f}, Test R2: {r2_test:.4f}, Test RMSE: {rmse_test:.2f}\")\n"
   ]
  },
  {
   "cell_type": "markdown",
   "id": "aeda45b2",
   "metadata": {},
   "source": [
    "Very solid baseline model"
   ]
  },
  {
   "cell_type": "code",
   "execution_count": 97,
   "id": "c2186b01",
   "metadata": {},
   "outputs": [
    {
     "data": {
      "text/plain": [
       "array(['04 TO 06', '19 TO 21', '01 TO 03', '07 TO 09', '10 TO 12',\n",
       "       '16 TO 18', '13 TO 15', '28 TO 30', '25 TO 27', '22 TO 24',\n",
       "       '34 TO 36', '31 TO 33', '37 TO 39', '46 TO 48', '40 TO 42',\n",
       "       '49 TO 51', '43 TO 45'], dtype=object)"
      ]
     },
     "execution_count": 97,
     "metadata": {},
     "output_type": "execute_result"
    }
   ],
   "source": [
    "hdb_resale_from_2020['storey_range'].unique()"
   ]
  },
  {
   "cell_type": "code",
   "execution_count": null,
   "id": "3674e3f3",
   "metadata": {},
   "outputs": [],
   "source": [
    "new_data = pd.DataFrame([\n",
    "    { 'month': '2025-08-20', 'town': 'ANG MO KIO', 'flat_type': '3 ROOM', 'block': '124', 'street_name': 'ANG MO KIO AVE 6', 'storey_range': '7 TO 9', 'floor_area_sqm': 67.0, 'flat_model': 'New Generation', 'lease_commence_date': 1977, 'remaining_lease': 52, 'resale_price': 430000.0,  'num_mrts_within_1km': 1, 'min_dist_to_mrt_km': 0.9},\n",
    "    { 'month': '2025-08-20', 'town': 'JURONG EAST', 'flat_type': '3 ROOM', 'block': '247', 'street_name': 'Jurong East St 24', 'storey_range': '13 TO 15', 'floor_area_sqm': 68.0, 'flat_model': 'New Generation', 'lease_commence_date': 1981, 'remaining_lease': 56, 'resale_price': 492888.0,  'num_mrts_within_1km': 2, 'min_dist_to_mrt_km': 0.6}\n",
    "])"
   ]
  },
  {
   "cell_type": "code",
   "execution_count": 113,
   "id": "eabeb85f",
   "metadata": {},
   "outputs": [
    {
     "data": {
      "text/plain": [
       "(2, 651)"
      ]
     },
     "execution_count": 113,
     "metadata": {},
     "output_type": "execute_result"
    }
   ],
   "source": [
    "new_X = new_data.drop(['month', 'block'], axis=1)\n",
    "\n",
    "new_X_processed = preprocessor_ridge.transform(new_X)\n",
    "\n",
    "y = np.log(new_data['resale_price'])\n",
    "new_X_processed.shape"
   ]
  },
  {
   "cell_type": "code",
   "execution_count": 114,
   "id": "b3fa79eb",
   "metadata": {},
   "outputs": [
    {
     "data": {
      "text/plain": [
       "array([424983.92794162, 385379.0233192 ])"
      ]
     },
     "execution_count": 114,
     "metadata": {},
     "output_type": "execute_result"
    }
   ],
   "source": [
    "np.exp(grids['Linear_Regression'].predict(new_X_processed))"
   ]
  },
  {
   "cell_type": "code",
   "execution_count": 101,
   "id": "68f20b1d",
   "metadata": {},
   "outputs": [
    {
     "data": {
      "text/plain": [
       "array([377728.66772408, 385683.19704836])"
      ]
     },
     "execution_count": 101,
     "metadata": {},
     "output_type": "execute_result"
    }
   ],
   "source": [
    "np.exp(grids['Random_Forest'].predict(new_X_processed))"
   ]
  },
  {
   "cell_type": "code",
   "execution_count": 102,
   "id": "6aaa6b45",
   "metadata": {},
   "outputs": [
    {
     "data": {
      "text/plain": [
       "array([392296.47, 380569.22], dtype=float32)"
      ]
     },
     "execution_count": 102,
     "metadata": {},
     "output_type": "execute_result"
    }
   ],
   "source": [
    "np.exp(grids['XGB'].predict(new_X_processed))"
   ]
  }
 ],
 "metadata": {
  "kernelspec": {
   "display_name": "venv",
   "language": "python",
   "name": "python3"
  },
  "language_info": {
   "codemirror_mode": {
    "name": "ipython",
    "version": 3
   },
   "file_extension": ".py",
   "mimetype": "text/x-python",
   "name": "python",
   "nbconvert_exporter": "python",
   "pygments_lexer": "ipython3",
   "version": "3.13.2"
  }
 },
 "nbformat": 4,
 "nbformat_minor": 5
}
