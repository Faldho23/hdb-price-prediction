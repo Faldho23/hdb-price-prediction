{
 "cells": [
  {
   "cell_type": "code",
   "execution_count": 2,
   "id": "f2703f72",
   "metadata": {},
   "outputs": [],
   "source": [
    "import pandas as pd\n"
   ]
  },
  {
   "cell_type": "code",
   "execution_count": 15,
   "id": "fb1858d9",
   "metadata": {},
   "outputs": [],
   "source": [
    "hdb_resale_data = pd.read_csv(\"data/processed/hdb_resale_data_final.csv\", index_col=0)"
   ]
  },
  {
   "cell_type": "code",
   "execution_count": 16,
   "id": "b1b563af",
   "metadata": {},
   "outputs": [
    {
     "data": {
      "text/plain": [
       "(249857, 13)"
      ]
     },
     "execution_count": 16,
     "metadata": {},
     "output_type": "execute_result"
    }
   ],
   "source": [
    "hdb_resale_data.shape"
   ]
  },
  {
   "cell_type": "code",
   "execution_count": 17,
   "id": "a0b31b50",
   "metadata": {},
   "outputs": [
    {
     "data": {
      "text/html": [
       "<div>\n",
       "<style scoped>\n",
       "    .dataframe tbody tr th:only-of-type {\n",
       "        vertical-align: middle;\n",
       "    }\n",
       "\n",
       "    .dataframe tbody tr th {\n",
       "        vertical-align: top;\n",
       "    }\n",
       "\n",
       "    .dataframe thead th {\n",
       "        text-align: right;\n",
       "    }\n",
       "</style>\n",
       "<table border=\"1\" class=\"dataframe\">\n",
       "  <thead>\n",
       "    <tr style=\"text-align: right;\">\n",
       "      <th></th>\n",
       "      <th>month</th>\n",
       "      <th>town</th>\n",
       "      <th>flat_type</th>\n",
       "      <th>block</th>\n",
       "      <th>street_name</th>\n",
       "      <th>storey_range</th>\n",
       "      <th>floor_area_sqm</th>\n",
       "      <th>flat_model</th>\n",
       "      <th>lease_commence_date</th>\n",
       "      <th>remaining_lease</th>\n",
       "      <th>resale_price</th>\n",
       "      <th>num_mrts_within_1km</th>\n",
       "      <th>min_dist_to_mrt_km</th>\n",
       "    </tr>\n",
       "    <tr>\n",
       "      <th>_id</th>\n",
       "      <th></th>\n",
       "      <th></th>\n",
       "      <th></th>\n",
       "      <th></th>\n",
       "      <th></th>\n",
       "      <th></th>\n",
       "      <th></th>\n",
       "      <th></th>\n",
       "      <th></th>\n",
       "      <th></th>\n",
       "      <th></th>\n",
       "      <th></th>\n",
       "      <th></th>\n",
       "    </tr>\n",
       "  </thead>\n",
       "  <tbody>\n",
       "    <tr>\n",
       "      <th>1</th>\n",
       "      <td>2015-01</td>\n",
       "      <td>ANG MO KIO</td>\n",
       "      <td>3 ROOM</td>\n",
       "      <td>174</td>\n",
       "      <td>ANG MO KIO AVE 4</td>\n",
       "      <td>07 TO 09</td>\n",
       "      <td>60.0</td>\n",
       "      <td>Improved</td>\n",
       "      <td>1986</td>\n",
       "      <td>70</td>\n",
       "      <td>255000.0</td>\n",
       "      <td>1</td>\n",
       "      <td>0.352915</td>\n",
       "    </tr>\n",
       "    <tr>\n",
       "      <th>2</th>\n",
       "      <td>2015-01</td>\n",
       "      <td>ANG MO KIO</td>\n",
       "      <td>3 ROOM</td>\n",
       "      <td>541</td>\n",
       "      <td>ANG MO KIO AVE 10</td>\n",
       "      <td>01 TO 03</td>\n",
       "      <td>68.0</td>\n",
       "      <td>New Generation</td>\n",
       "      <td>1981</td>\n",
       "      <td>65</td>\n",
       "      <td>275000.0</td>\n",
       "      <td>0</td>\n",
       "      <td>0.816023</td>\n",
       "    </tr>\n",
       "    <tr>\n",
       "      <th>3</th>\n",
       "      <td>2015-01</td>\n",
       "      <td>ANG MO KIO</td>\n",
       "      <td>3 ROOM</td>\n",
       "      <td>163</td>\n",
       "      <td>ANG MO KIO AVE 4</td>\n",
       "      <td>01 TO 03</td>\n",
       "      <td>69.0</td>\n",
       "      <td>New Generation</td>\n",
       "      <td>1980</td>\n",
       "      <td>64</td>\n",
       "      <td>285000.0</td>\n",
       "      <td>1</td>\n",
       "      <td>0.229604</td>\n",
       "    </tr>\n",
       "    <tr>\n",
       "      <th>4</th>\n",
       "      <td>2015-01</td>\n",
       "      <td>ANG MO KIO</td>\n",
       "      <td>3 ROOM</td>\n",
       "      <td>446</td>\n",
       "      <td>ANG MO KIO AVE 10</td>\n",
       "      <td>01 TO 03</td>\n",
       "      <td>68.0</td>\n",
       "      <td>New Generation</td>\n",
       "      <td>1979</td>\n",
       "      <td>63</td>\n",
       "      <td>290000.0</td>\n",
       "      <td>1</td>\n",
       "      <td>0.664472</td>\n",
       "    </tr>\n",
       "    <tr>\n",
       "      <th>5</th>\n",
       "      <td>2015-01</td>\n",
       "      <td>ANG MO KIO</td>\n",
       "      <td>3 ROOM</td>\n",
       "      <td>557</td>\n",
       "      <td>ANG MO KIO AVE 10</td>\n",
       "      <td>07 TO 09</td>\n",
       "      <td>68.0</td>\n",
       "      <td>New Generation</td>\n",
       "      <td>1980</td>\n",
       "      <td>64</td>\n",
       "      <td>290000.0</td>\n",
       "      <td>0</td>\n",
       "      <td>0.923402</td>\n",
       "    </tr>\n",
       "  </tbody>\n",
       "</table>\n",
       "</div>"
      ],
      "text/plain": [
       "       month        town flat_type block        street_name storey_range  \\\n",
       "_id                                                                        \n",
       "1    2015-01  ANG MO KIO    3 ROOM   174   ANG MO KIO AVE 4     07 TO 09   \n",
       "2    2015-01  ANG MO KIO    3 ROOM   541  ANG MO KIO AVE 10     01 TO 03   \n",
       "3    2015-01  ANG MO KIO    3 ROOM   163   ANG MO KIO AVE 4     01 TO 03   \n",
       "4    2015-01  ANG MO KIO    3 ROOM   446  ANG MO KIO AVE 10     01 TO 03   \n",
       "5    2015-01  ANG MO KIO    3 ROOM   557  ANG MO KIO AVE 10     07 TO 09   \n",
       "\n",
       "     floor_area_sqm      flat_model  lease_commence_date  remaining_lease  \\\n",
       "_id                                                                         \n",
       "1              60.0        Improved                 1986               70   \n",
       "2              68.0  New Generation                 1981               65   \n",
       "3              69.0  New Generation                 1980               64   \n",
       "4              68.0  New Generation                 1979               63   \n",
       "5              68.0  New Generation                 1980               64   \n",
       "\n",
       "     resale_price  num_mrts_within_1km  min_dist_to_mrt_km  \n",
       "_id                                                         \n",
       "1        255000.0                    1            0.352915  \n",
       "2        275000.0                    0            0.816023  \n",
       "3        285000.0                    1            0.229604  \n",
       "4        290000.0                    1            0.664472  \n",
       "5        290000.0                    0            0.923402  "
      ]
     },
     "execution_count": 17,
     "metadata": {},
     "output_type": "execute_result"
    }
   ],
   "source": [
    "hdb_resale_data.head()"
   ]
  },
  {
   "cell_type": "code",
   "execution_count": 18,
   "id": "c62cccfe",
   "metadata": {},
   "outputs": [
    {
     "name": "stdout",
     "output_type": "stream",
     "text": [
      "<class 'pandas.core.frame.DataFrame'>\n",
      "Index: 249857 entries, 1 to 212704\n",
      "Data columns (total 13 columns):\n",
      " #   Column               Non-Null Count   Dtype  \n",
      "---  ------               --------------   -----  \n",
      " 0   month                249857 non-null  object \n",
      " 1   town                 249857 non-null  object \n",
      " 2   flat_type            249857 non-null  object \n",
      " 3   block                249857 non-null  object \n",
      " 4   street_name          249857 non-null  object \n",
      " 5   storey_range         249857 non-null  object \n",
      " 6   floor_area_sqm       249857 non-null  float64\n",
      " 7   flat_model           249857 non-null  object \n",
      " 8   lease_commence_date  249857 non-null  int64  \n",
      " 9   remaining_lease      249857 non-null  int64  \n",
      " 10  resale_price         249857 non-null  float64\n",
      " 11  num_mrts_within_1km  249857 non-null  int64  \n",
      " 12  min_dist_to_mrt_km   249857 non-null  float64\n",
      "dtypes: float64(3), int64(3), object(7)\n",
      "memory usage: 26.7+ MB\n"
     ]
    }
   ],
   "source": [
    "hdb_resale_data.info()"
   ]
  },
  {
   "cell_type": "code",
   "execution_count": 26,
   "id": "6fd20b12",
   "metadata": {},
   "outputs": [
    {
     "data": {
      "text/html": [
       "<div>\n",
       "<style scoped>\n",
       "    .dataframe tbody tr th:only-of-type {\n",
       "        vertical-align: middle;\n",
       "    }\n",
       "\n",
       "    .dataframe tbody tr th {\n",
       "        vertical-align: top;\n",
       "    }\n",
       "\n",
       "    .dataframe thead th {\n",
       "        text-align: right;\n",
       "    }\n",
       "</style>\n",
       "<table border=\"1\" class=\"dataframe\">\n",
       "  <thead>\n",
       "    <tr style=\"text-align: right;\">\n",
       "      <th></th>\n",
       "      <th>count</th>\n",
       "      <th>mean</th>\n",
       "      <th>std</th>\n",
       "      <th>min</th>\n",
       "      <th>25%</th>\n",
       "      <th>50%</th>\n",
       "      <th>75%</th>\n",
       "      <th>max</th>\n",
       "    </tr>\n",
       "  </thead>\n",
       "  <tbody>\n",
       "    <tr>\n",
       "      <th>floor_area_sqm</th>\n",
       "      <td>249857.0</td>\n",
       "      <td>96.870696</td>\n",
       "      <td>24.057105</td>\n",
       "      <td>31.000000</td>\n",
       "      <td>80.000000</td>\n",
       "      <td>93.000000</td>\n",
       "      <td>112.000000</td>\n",
       "      <td>3.667000e+02</td>\n",
       "    </tr>\n",
       "    <tr>\n",
       "      <th>lease_commence_date</th>\n",
       "      <td>249857.0</td>\n",
       "      <td>1995.555342</td>\n",
       "      <td>13.937465</td>\n",
       "      <td>1966.000000</td>\n",
       "      <td>1985.000000</td>\n",
       "      <td>1996.000000</td>\n",
       "      <td>2006.000000</td>\n",
       "      <td>2.022000e+03</td>\n",
       "    </tr>\n",
       "    <tr>\n",
       "      <th>remaining_lease</th>\n",
       "      <td>249857.0</td>\n",
       "      <td>73.899823</td>\n",
       "      <td>13.734075</td>\n",
       "      <td>40.000000</td>\n",
       "      <td>63.000000</td>\n",
       "      <td>73.000000</td>\n",
       "      <td>86.000000</td>\n",
       "      <td>9.700000e+01</td>\n",
       "    </tr>\n",
       "    <tr>\n",
       "      <th>resale_price</th>\n",
       "      <td>249857.0</td>\n",
       "      <td>506457.831953</td>\n",
       "      <td>179415.160650</td>\n",
       "      <td>140000.000000</td>\n",
       "      <td>375000.000000</td>\n",
       "      <td>470000.000000</td>\n",
       "      <td>608000.000000</td>\n",
       "      <td>1.658888e+06</td>\n",
       "    </tr>\n",
       "    <tr>\n",
       "      <th>num_mrts_within_1km</th>\n",
       "      <td>249857.0</td>\n",
       "      <td>0.632566</td>\n",
       "      <td>0.714089</td>\n",
       "      <td>0.000000</td>\n",
       "      <td>0.000000</td>\n",
       "      <td>1.000000</td>\n",
       "      <td>1.000000</td>\n",
       "      <td>6.000000e+00</td>\n",
       "    </tr>\n",
       "    <tr>\n",
       "      <th>min_dist_to_mrt_km</th>\n",
       "      <td>249857.0</td>\n",
       "      <td>0.774630</td>\n",
       "      <td>0.437265</td>\n",
       "      <td>0.037148</td>\n",
       "      <td>0.457164</td>\n",
       "      <td>0.691146</td>\n",
       "      <td>0.991647</td>\n",
       "      <td>3.594500e+00</td>\n",
       "    </tr>\n",
       "  </tbody>\n",
       "</table>\n",
       "</div>"
      ],
      "text/plain": [
       "                        count           mean            std            min  \\\n",
       "floor_area_sqm       249857.0      96.870696      24.057105      31.000000   \n",
       "lease_commence_date  249857.0    1995.555342      13.937465    1966.000000   \n",
       "remaining_lease      249857.0      73.899823      13.734075      40.000000   \n",
       "resale_price         249857.0  506457.831953  179415.160650  140000.000000   \n",
       "num_mrts_within_1km  249857.0       0.632566       0.714089       0.000000   \n",
       "min_dist_to_mrt_km   249857.0       0.774630       0.437265       0.037148   \n",
       "\n",
       "                               25%            50%            75%           max  \n",
       "floor_area_sqm           80.000000      93.000000     112.000000  3.667000e+02  \n",
       "lease_commence_date    1985.000000    1996.000000    2006.000000  2.022000e+03  \n",
       "remaining_lease          63.000000      73.000000      86.000000  9.700000e+01  \n",
       "resale_price         375000.000000  470000.000000  608000.000000  1.658888e+06  \n",
       "num_mrts_within_1km       0.000000       1.000000       1.000000  6.000000e+00  \n",
       "min_dist_to_mrt_km        0.457164       0.691146       0.991647  3.594500e+00  "
      ]
     },
     "execution_count": 26,
     "metadata": {},
     "output_type": "execute_result"
    }
   ],
   "source": [
    "numerical_features = hdb_resale_data.select_dtypes(include=['int64', 'float64']).reset_index(drop=True)\n",
    "\n",
    "numerical_features.describe().T"
   ]
  },
  {
   "cell_type": "code",
   "execution_count": 27,
   "id": "b414115b",
   "metadata": {},
   "outputs": [
    {
     "data": {
      "text/html": [
       "<div>\n",
       "<style scoped>\n",
       "    .dataframe tbody tr th:only-of-type {\n",
       "        vertical-align: middle;\n",
       "    }\n",
       "\n",
       "    .dataframe tbody tr th {\n",
       "        vertical-align: top;\n",
       "    }\n",
       "\n",
       "    .dataframe thead th {\n",
       "        text-align: right;\n",
       "    }\n",
       "</style>\n",
       "<table border=\"1\" class=\"dataframe\">\n",
       "  <thead>\n",
       "    <tr style=\"text-align: right;\">\n",
       "      <th></th>\n",
       "      <th>count</th>\n",
       "      <th>unique</th>\n",
       "      <th>top</th>\n",
       "      <th>freq</th>\n",
       "    </tr>\n",
       "  </thead>\n",
       "  <tbody>\n",
       "    <tr>\n",
       "      <th>month</th>\n",
       "      <td>249857</td>\n",
       "      <td>127</td>\n",
       "      <td>2024-07</td>\n",
       "      <td>3036</td>\n",
       "    </tr>\n",
       "    <tr>\n",
       "      <th>town</th>\n",
       "      <td>249857</td>\n",
       "      <td>26</td>\n",
       "      <td>SENGKANG</td>\n",
       "      <td>20086</td>\n",
       "    </tr>\n",
       "    <tr>\n",
       "      <th>flat_type</th>\n",
       "      <td>249857</td>\n",
       "      <td>7</td>\n",
       "      <td>4 ROOM</td>\n",
       "      <td>105192</td>\n",
       "    </tr>\n",
       "    <tr>\n",
       "      <th>block</th>\n",
       "      <td>249857</td>\n",
       "      <td>2745</td>\n",
       "      <td>2</td>\n",
       "      <td>801</td>\n",
       "    </tr>\n",
       "    <tr>\n",
       "      <th>street_name</th>\n",
       "      <td>249857</td>\n",
       "      <td>576</td>\n",
       "      <td>YISHUN RING RD</td>\n",
       "      <td>3665</td>\n",
       "    </tr>\n",
       "    <tr>\n",
       "      <th>storey_range</th>\n",
       "      <td>249857</td>\n",
       "      <td>17</td>\n",
       "      <td>04 TO 06</td>\n",
       "      <td>57777</td>\n",
       "    </tr>\n",
       "    <tr>\n",
       "      <th>flat_model</th>\n",
       "      <td>249857</td>\n",
       "      <td>21</td>\n",
       "      <td>Model A</td>\n",
       "      <td>86782</td>\n",
       "    </tr>\n",
       "  </tbody>\n",
       "</table>\n",
       "</div>"
      ],
      "text/plain": [
       "               count unique             top    freq\n",
       "month         249857    127         2024-07    3036\n",
       "town          249857     26        SENGKANG   20086\n",
       "flat_type     249857      7          4 ROOM  105192\n",
       "block         249857   2745               2     801\n",
       "street_name   249857    576  YISHUN RING RD    3665\n",
       "storey_range  249857     17        04 TO 06   57777\n",
       "flat_model    249857     21         Model A   86782"
      ]
     },
     "execution_count": 27,
     "metadata": {},
     "output_type": "execute_result"
    }
   ],
   "source": [
    "categorical_features = hdb_resale_data.select_dtypes(include=['object']).reset_index(drop=True)\n",
    "\n",
    "categorical_features.describe().T"
   ]
  },
  {
   "cell_type": "code",
   "execution_count": 31,
   "id": "9aca0b0a",
   "metadata": {},
   "outputs": [
    {
     "data": {
      "text/plain": [
       "floor_area_sqm         0\n",
       "lease_commence_date    0\n",
       "remaining_lease        0\n",
       "resale_price           0\n",
       "num_mrts_within_1km    0\n",
       "min_dist_to_mrt_km     0\n",
       "dtype: int64"
      ]
     },
     "execution_count": 31,
     "metadata": {},
     "output_type": "execute_result"
    }
   ],
   "source": [
    "numerical_features.isnull().sum()"
   ]
  },
  {
   "cell_type": "code",
   "execution_count": 29,
   "id": "b22fdae8",
   "metadata": {},
   "outputs": [
    {
     "data": {
      "text/plain": [
       "month           0\n",
       "town            0\n",
       "flat_type       0\n",
       "block           0\n",
       "street_name     0\n",
       "storey_range    0\n",
       "flat_model      0\n",
       "dtype: int64"
      ]
     },
     "execution_count": 29,
     "metadata": {},
     "output_type": "execute_result"
    }
   ],
   "source": [
    "categorical_features.isnull().sum()"
   ]
  },
  {
   "cell_type": "code",
   "execution_count": 40,
   "id": "09e42f97",
   "metadata": {},
   "outputs": [
    {
     "data": {
      "text/plain": [
       "_id\n",
       "1          255000.0\n",
       "2          275000.0\n",
       "3          285000.0\n",
       "4          290000.0\n",
       "5          290000.0\n",
       "            ...    \n",
       "212700     975000.0\n",
       "212701    1000000.0\n",
       "212702     980000.0\n",
       "212703     945000.0\n",
       "212704    1095000.0\n",
       "Name: resale_price, Length: 249857, dtype: float64"
      ]
     },
     "execution_count": 40,
     "metadata": {},
     "output_type": "execute_result"
    }
   ],
   "source": [
    "hdb_resale_data['resale_price']"
   ]
  },
  {
   "cell_type": "code",
   "execution_count": null,
   "id": "66c5d217",
   "metadata": {},
   "outputs": [
    {
     "data": {
      "image/png": "[encoded data removed]",
      "text/plain": [
       "<Figure size 1000x600 with 1 Axes>"
      ]
     },
     "metadata": {},
     "output_type": "display_data"
    }
   ],
   "source": [
    "import matplotlib.pyplot as plt\n",
    "from matplotlib.ticker import FuncFormatter\n",
    "\n",
    "# Formatter function to display values in 'k'\n",
    "def thousands_formatter(x, pos):\n",
    "    return f'{int(x/1000)}k'\n",
    "\n",
    "plt.figure(figsize=(10, 6))\n",
    "plt.hist(hdb_resale_data['resale_price'], bins=50, color='skyblue', edgecolor='black')\n",
    "plt.title('Distribution of Resale Prices')\n",
    "plt.xlabel('Resale Price (SGD)')\n",
    "plt.ylabel('Number of Flats')\n",
    "plt.grid(True)\n",
    "\n",
    "# Apply the formatter to x-axis\n",
    "plt.gca().xaxis.set_major_formatter(FuncFormatter(thousands_formatter))\n",
    "\n",
    "plt.tight_layout()\n",
    "plt.show()\n"
   ]
  }
 ],
 "metadata": {
  "kernelspec": {
   "display_name": "venv",
   "language": "python",
   "name": "python3"
  },
  "language_info": {
   "codemirror_mode": {
    "name": "ipython",
    "version": 3
   },
   "file_extension": ".py",
   "mimetype": "text/x-python",
   "name": "python",
   "nbconvert_exporter": "python",
   "pygments_lexer": "ipython3",
   "version": "3.13.2"
  }
 },
 "nbformat": 4,
 "nbformat_minor": 5
}
