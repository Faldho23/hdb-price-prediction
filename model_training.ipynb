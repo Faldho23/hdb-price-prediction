{
 "cells": [
  {
   "cell_type": "code",
   "execution_count": 2,
   "id": "05e369cb",
   "metadata": {},
   "outputs": [],
   "source": [
    "import pandas as pd\n",
    "import numpy as np\n",
    "import joblib\n",
    "import os"
   ]
  },
  {
   "cell_type": "code",
   "execution_count": 3,
   "id": "f70e3ee3",
   "metadata": {},
   "outputs": [],
   "source": [
    "hdb_resale_data = pd.read_csv('data/processed/hdb_resale_data_final.csv', index_col=0)"
   ]
  },
  {
   "cell_type": "code",
   "execution_count": 4,
   "id": "06fbbb38",
   "metadata": {},
   "outputs": [
    {
     "data": {
      "text/plain": [
       "(249857, 13)"
      ]
     },
     "execution_count": 4,
     "metadata": {},
     "output_type": "execute_result"
    }
   ],
   "source": [
    "hdb_resale_data.shape"
   ]
  },
  {
   "cell_type": "code",
   "execution_count": 5,
   "id": "091bb1ba",
   "metadata": {},
   "outputs": [
    {
     "data": {
      "text/html": [
       "<div>\n",
       "<style scoped>\n",
       "    .dataframe tbody tr th:only-of-type {\n",
       "        vertical-align: middle;\n",
       "    }\n",
       "\n",
       "    .dataframe tbody tr th {\n",
       "        vertical-align: top;\n",
       "    }\n",
       "\n",
       "    .dataframe thead th {\n",
       "        text-align: right;\n",
       "    }\n",
       "</style>\n",
       "<table border=\"1\" class=\"dataframe\">\n",
       "  <thead>\n",
       "    <tr style=\"text-align: right;\">\n",
       "      <th></th>\n",
       "      <th>month</th>\n",
       "      <th>town</th>\n",
       "      <th>flat_type</th>\n",
       "      <th>block</th>\n",
       "      <th>street_name</th>\n",
       "      <th>storey_range</th>\n",
       "      <th>floor_area_sqm</th>\n",
       "      <th>flat_model</th>\n",
       "      <th>lease_commence_date</th>\n",
       "      <th>remaining_lease</th>\n",
       "      <th>resale_price</th>\n",
       "      <th>num_mrts_within_1km</th>\n",
       "      <th>min_dist_to_mrt_km</th>\n",
       "    </tr>\n",
       "    <tr>\n",
       "      <th>_id</th>\n",
       "      <th></th>\n",
       "      <th></th>\n",
       "      <th></th>\n",
       "      <th></th>\n",
       "      <th></th>\n",
       "      <th></th>\n",
       "      <th></th>\n",
       "      <th></th>\n",
       "      <th></th>\n",
       "      <th></th>\n",
       "      <th></th>\n",
       "      <th></th>\n",
       "      <th></th>\n",
       "    </tr>\n",
       "  </thead>\n",
       "  <tbody>\n",
       "    <tr>\n",
       "      <th>1</th>\n",
       "      <td>2015-01</td>\n",
       "      <td>ANG MO KIO</td>\n",
       "      <td>3 ROOM</td>\n",
       "      <td>174</td>\n",
       "      <td>ANG MO KIO AVE 4</td>\n",
       "      <td>07 TO 09</td>\n",
       "      <td>60.0</td>\n",
       "      <td>Improved</td>\n",
       "      <td>1986</td>\n",
       "      <td>70</td>\n",
       "      <td>255000.0</td>\n",
       "      <td>1</td>\n",
       "      <td>0.352915</td>\n",
       "    </tr>\n",
       "    <tr>\n",
       "      <th>2</th>\n",
       "      <td>2015-01</td>\n",
       "      <td>ANG MO KIO</td>\n",
       "      <td>3 ROOM</td>\n",
       "      <td>541</td>\n",
       "      <td>ANG MO KIO AVE 10</td>\n",
       "      <td>01 TO 03</td>\n",
       "      <td>68.0</td>\n",
       "      <td>New Generation</td>\n",
       "      <td>1981</td>\n",
       "      <td>65</td>\n",
       "      <td>275000.0</td>\n",
       "      <td>0</td>\n",
       "      <td>0.816023</td>\n",
       "    </tr>\n",
       "    <tr>\n",
       "      <th>3</th>\n",
       "      <td>2015-01</td>\n",
       "      <td>ANG MO KIO</td>\n",
       "      <td>3 ROOM</td>\n",
       "      <td>163</td>\n",
       "      <td>ANG MO KIO AVE 4</td>\n",
       "      <td>01 TO 03</td>\n",
       "      <td>69.0</td>\n",
       "      <td>New Generation</td>\n",
       "      <td>1980</td>\n",
       "      <td>64</td>\n",
       "      <td>285000.0</td>\n",
       "      <td>1</td>\n",
       "      <td>0.229604</td>\n",
       "    </tr>\n",
       "    <tr>\n",
       "      <th>4</th>\n",
       "      <td>2015-01</td>\n",
       "      <td>ANG MO KIO</td>\n",
       "      <td>3 ROOM</td>\n",
       "      <td>446</td>\n",
       "      <td>ANG MO KIO AVE 10</td>\n",
       "      <td>01 TO 03</td>\n",
       "      <td>68.0</td>\n",
       "      <td>New Generation</td>\n",
       "      <td>1979</td>\n",
       "      <td>63</td>\n",
       "      <td>290000.0</td>\n",
       "      <td>1</td>\n",
       "      <td>0.664472</td>\n",
       "    </tr>\n",
       "    <tr>\n",
       "      <th>5</th>\n",
       "      <td>2015-01</td>\n",
       "      <td>ANG MO KIO</td>\n",
       "      <td>3 ROOM</td>\n",
       "      <td>557</td>\n",
       "      <td>ANG MO KIO AVE 10</td>\n",
       "      <td>07 TO 09</td>\n",
       "      <td>68.0</td>\n",
       "      <td>New Generation</td>\n",
       "      <td>1980</td>\n",
       "      <td>64</td>\n",
       "      <td>290000.0</td>\n",
       "      <td>0</td>\n",
       "      <td>0.923402</td>\n",
       "    </tr>\n",
       "  </tbody>\n",
       "</table>\n",
       "</div>"
      ],
      "text/plain": [
       "       month        town flat_type block        street_name storey_range  \\\n",
       "_id                                                                        \n",
       "1    2015-01  ANG MO KIO    3 ROOM   174   ANG MO KIO AVE 4     07 TO 09   \n",
       "2    2015-01  ANG MO KIO    3 ROOM   541  ANG MO KIO AVE 10     01 TO 03   \n",
       "3    2015-01  ANG MO KIO    3 ROOM   163   ANG MO KIO AVE 4     01 TO 03   \n",
       "4    2015-01  ANG MO KIO    3 ROOM   446  ANG MO KIO AVE 10     01 TO 03   \n",
       "5    2015-01  ANG MO KIO    3 ROOM   557  ANG MO KIO AVE 10     07 TO 09   \n",
       "\n",
       "     floor_area_sqm      flat_model  lease_commence_date  remaining_lease  \\\n",
       "_id                                                                         \n",
       "1              60.0        Improved                 1986               70   \n",
       "2              68.0  New Generation                 1981               65   \n",
       "3              69.0  New Generation                 1980               64   \n",
       "4              68.0  New Generation                 1979               63   \n",
       "5              68.0  New Generation                 1980               64   \n",
       "\n",
       "     resale_price  num_mrts_within_1km  min_dist_to_mrt_km  \n",
       "_id                                                         \n",
       "1        255000.0                    1            0.352915  \n",
       "2        275000.0                    0            0.816023  \n",
       "3        285000.0                    1            0.229604  \n",
       "4        290000.0                    1            0.664472  \n",
       "5        290000.0                    0            0.923402  "
      ]
     },
     "execution_count": 5,
     "metadata": {},
     "output_type": "execute_result"
    }
   ],
   "source": [
    "hdb_resale_data.head()"
   ]
  },
  {
   "cell_type": "markdown",
   "id": "f7e798ab",
   "metadata": {},
   "source": [
    "<h2> Baseline Models"
   ]
  },
  {
   "cell_type": "code",
   "execution_count": 6,
   "id": "65dbe9d2",
   "metadata": {},
   "outputs": [],
   "source": [
    "from sklearn.pipeline import Pipeline\n",
    "from sklearn.compose import ColumnTransformer\n",
    "from sklearn.preprocessing import StandardScaler, OneHotEncoder"
   ]
  },
  {
   "cell_type": "code",
   "execution_count": 7,
   "id": "20507ce6",
   "metadata": {},
   "outputs": [],
   "source": [
    "def create_preprocessor(numerical_cols, categorical_cols):\n",
    "    numerical_transformer = Pipeline(steps=[\n",
    "        (\"scaler\", StandardScaler())\n",
    "    ])\n",
    "    \n",
    "    categorical_transformer = Pipeline(steps=[\n",
    "        (\"onehot\", OneHotEncoder(handle_unknown=\"ignore\", sparse_output=False))\n",
    "    ])\n",
    "    \n",
    "    preprocessor = ColumnTransformer(\n",
    "        transformers=[\n",
    "            ('num', numerical_transformer, numerical_cols),\n",
    "            ('cat', categorical_transformer, categorical_cols)\n",
    "        ]\n",
    "    )\n",
    "    \n",
    "    return preprocessor"
   ]
  },
  {
   "cell_type": "code",
   "execution_count": 8,
   "id": "4fbf4c7b",
   "metadata": {},
   "outputs": [],
   "source": [
    "model_scores = {}"
   ]
  },
  {
   "cell_type": "code",
   "execution_count": 9,
   "id": "96a4705f",
   "metadata": {},
   "outputs": [
    {
     "data": {
      "text/plain": [
       "(249857, 76)"
      ]
     },
     "execution_count": 9,
     "metadata": {},
     "output_type": "execute_result"
    }
   ],
   "source": [
    "numerical_columns = hdb_resale_data.select_dtypes(include=['int64', 'float64']).columns.drop(['resale_price'])\n",
    "categorical_columns = hdb_resale_data.select_dtypes(include=['object', 'category']).columns.drop(['month', 'block', 'street_name'])\n",
    "\n",
    "preprocessor = create_preprocessor(numerical_columns, categorical_columns)\n",
    "\n",
    "X = hdb_resale_data.drop(['month', 'block', 'resale_price', 'street_name'], axis=1)\n",
    "\n",
    "X_processed = preprocessor.fit_transform(X)\n",
    "y = np.log(hdb_resale_data['resale_price'])\n",
    "\n",
    "X_processed.shape"
   ]
  },
  {
   "cell_type": "markdown",
   "id": "841c3dbb",
   "metadata": {},
   "source": [
    "<h3> Basic Linear Regression"
   ]
  },
  {
   "cell_type": "code",
   "execution_count": 10,
   "id": "603fb983",
   "metadata": {},
   "outputs": [],
   "source": [
    "from sklearn.linear_model import LinearRegression\n",
    "from sklearn.model_selection import KFold, GridSearchCV\n",
    "from sklearn.metrics import make_scorer, mean_squared_error\n",
    "from sklearn.model_selection import cross_validate"
   ]
  },
  {
   "cell_type": "code",
   "execution_count": 11,
   "id": "a1112df0",
   "metadata": {},
   "outputs": [
    {
     "name": "stdout",
     "output_type": "stream",
     "text": [
      "Average R² score: 0.8828652871124097\n",
      "Average RMSE: 0.11671962388660384\n"
     ]
    },
    {
     "data": {
      "text/plain": [
       "['models/linear_regression_model.pkl']"
      ]
     },
     "execution_count": 11,
     "metadata": {},
     "output_type": "execute_result"
    }
   ],
   "source": [
    "linear_model = LinearRegression()\n",
    "\n",
    "def rmse(y_true, y_pred):\n",
    "    return np.sqrt(mean_squared_error(y_true, y_pred))\n",
    "\n",
    "scoring = {\n",
    "    \"r2\": \"r2\",\n",
    "    \"rmse\": make_scorer(rmse)\n",
    "}\n",
    "\n",
    "kf = KFold(n_splits=5, shuffle=True, random_state=42)\n",
    "\n",
    "cv_results = cross_validate(linear_model, X_processed, y, cv=kf, scoring=scoring)\n",
    "\n",
    "model_scores['LinearRegression'] = {\n",
    "    \"r2\": np.mean(cv_results[\"test_r2\"]),\n",
    "    \"rmse\": np.mean(cv_results[\"test_rmse\"])\n",
    "}   \n",
    "\n",
    "print(\"Average R² score:\", model_scores['LinearRegression']['r2'])\n",
    "print(\"Average RMSE:\", model_scores['LinearRegression']['rmse'])\n",
    "\n",
    "linear_model.fit(X_processed, y)\n",
    "joblib.dump(linear_model, \"models/linear_regression_model.pkl\")"
   ]
  },
  {
   "cell_type": "markdown",
   "id": "d1d0b348",
   "metadata": {},
   "source": [
    "<h3> Random Forest Regression"
   ]
  },
  {
   "cell_type": "code",
   "execution_count": 12,
   "id": "f497e2b4",
   "metadata": {},
   "outputs": [
    {
     "name": "stdout",
     "output_type": "stream",
     "text": [
      "Fitting 5 folds for each of 8 candidates, totalling 40 fits\n",
      "Best parameters: {'max_depth': None, 'min_samples_split': 5, 'n_estimators': 200}\n",
      "Average R² score: 0.9688399403590437\n",
      "Average RMSE: 0.06019911954385622\n"
     ]
    }
   ],
   "source": [
    "from sklearn.ensemble import RandomForestRegressor\n",
    "\n",
    "rf_model = RandomForestRegressor(random_state=42)\n",
    "\n",
    "rf_params = {\n",
    "    'n_estimators': [100, 200],\n",
    "    'max_depth': [None, 10],\n",
    "    'min_samples_split': [2, 5]\n",
    "}\n",
    "\n",
    "kf = KFold(n_splits=5, shuffle=True, random_state=42)\n",
    "\n",
    "rf_grid = GridSearchCV(\n",
    "    rf_model, \n",
    "    param_grid=rf_params,\n",
    "    cv=kf,\n",
    "    scoring=scoring,\n",
    "    refit='r2',\n",
    "    n_jobs=-1, \n",
    "    verbose=2)\n",
    "\n",
    "if os.path.exists(\"models/random_forest_model.pkl\"):\n",
    "    rf_grid = joblib.load(\"models/random_forest_model.pkl\")\n",
    "    print(\"Loaded Random Forest GridSearch from disk\")\n",
    "else : \n",
    "    rf_grid.fit(X_processed, y)\n",
    "\n",
    "    model_scores['RandomForest'] = {\n",
    "        \"r2\": rf_grid.cv_results_['mean_test_r2'][rf_grid.best_index_],\n",
    "        \"rmse\": rf_grid.cv_results_['mean_test_rmse'][rf_grid.best_index_]\n",
    "    }   \n",
    "\n",
    "    joblib.dump(rf_grid, \"models/random_forest_model.pkl\")\n",
    "\n",
    "print(\"Best parameters:\", rf_grid.best_params_)\n",
    "print(\"Average R² score:\", model_scores['RandomForest']['r2'])\n",
    "print(\"Average RMSE:\", model_scores['RandomForest']['rmse'])"
   ]
  },
  {
   "cell_type": "markdown",
   "id": "99300397",
   "metadata": {},
   "source": [
    "<h4> XGBoost Model"
   ]
  },
  {
   "cell_type": "code",
   "execution_count": 13,
   "id": "3f7766fa",
   "metadata": {},
   "outputs": [
    {
     "name": "stdout",
     "output_type": "stream",
     "text": [
      "Fitting 5 folds for each of 6 candidates, totalling 30 fits\n",
      "Best parameters: {'colsample_bytree': 0.8, 'learning_rate': 0.1, 'max_depth': 8, 'n_estimators': 500, 'subsample': 0.8}\n",
      "Average R² score: 0.9357241475347229\n",
      "Average RMSE: 0.07801774000077133\n"
     ]
    }
   ],
   "source": [
    "from xgboost import XGBRegressor\n",
    "\n",
    "xgb_model = XGBRegressor(random_state=42)\n",
    "\n",
    "xgb_params = {\n",
    "    'n_estimators': [200, 500],\n",
    "    'max_depth': [4, 6, 8],\n",
    "    'learning_rate': [0.1],\n",
    "    'subsample': [0.8],\n",
    "    'colsample_bytree': [0.8]\n",
    "}\n",
    "\n",
    "xgb_grid = GridSearchCV(\n",
    "    xgb_model, \n",
    "    param_grid=xgb_params, \n",
    "    cv=5, \n",
    "    scoring=scoring,\n",
    "    refit='r2', \n",
    "    n_jobs=-1,\n",
    "    verbose=2)\n",
    "\n",
    "if os.path.exists(\"models/xgb_model.pkl\"):\n",
    "    xgb_grid = joblib.load(\"models/xgb_model.pkl\")\n",
    "    print(\"Loaded XGBoost GridSearch from disk\")\n",
    "else:\n",
    "    xgb_grid.fit(X_processed, y)\n",
    "\n",
    "    model_scores['XGBoost'] = {\n",
    "        \"r2\": xgb_grid.cv_results_['mean_test_r2'][xgb_grid.best_index_],\n",
    "        \"rmse\": xgb_grid.cv_results_['mean_test_rmse'][xgb_grid.best_index_]\n",
    "    }   \n",
    "\n",
    "    joblib.dump(xgb_grid, \"models/xgb_model.pkl\")\n",
    "\n",
    "print(\"Best parameters:\", xgb_grid.best_params_)\n",
    "print(\"Average R² score:\", model_scores['XGBoost']['r2'])\n",
    "print(\"Average RMSE:\", model_scores['XGBoost']['rmse'])"
   ]
  },
  {
   "cell_type": "markdown",
   "id": "5e77b715",
   "metadata": {},
   "source": [
    "<h2> Addressing Multicollinearity"
   ]
  },
  {
   "cell_type": "code",
   "execution_count": 14,
   "id": "830ab9bb",
   "metadata": {},
   "outputs": [],
   "source": [
    "model_scores2 = {}"
   ]
  },
  {
   "cell_type": "markdown",
   "id": "5ef26808",
   "metadata": {},
   "source": [
    "<h4> Ridge Regression Model"
   ]
  },
  {
   "cell_type": "code",
   "execution_count": 15,
   "id": "993d310b",
   "metadata": {},
   "outputs": [],
   "source": [
    "from sklearn.linear_model import Ridge"
   ]
  },
  {
   "cell_type": "code",
   "execution_count": 17,
   "id": "f2dcf7e5",
   "metadata": {},
   "outputs": [
    {
     "name": "stdout",
     "output_type": "stream",
     "text": [
      "Best parameters: {'alpha': 1}\n",
      "Average R² score: 0.8828653253416894\n",
      "Average RMSE: 0.1167196097510926\n"
     ]
    }
   ],
   "source": [
    "ridge_model = Ridge()\n",
    "\n",
    "ridge_params = {'alpha': [0.01, 0.1, 1, 10, 100]}\n",
    "\n",
    "ridge_grid = GridSearchCV(\n",
    "    estimator=ridge_model, \n",
    "    param_grid=ridge_params, \n",
    "    cv=kf, \n",
    "    scoring=scoring,\n",
    "    refit='r2')\n",
    "\n",
    "if os.path.exists(\"models/ridge_regression_model.pkl\"):\n",
    "    ridge_grid = joblib.load(\"models/ridge_regression_model.pkl\")\n",
    "    print(\"Loaded Ridge Regression GridSearch from disk\")\n",
    "else:\n",
    "    ridge_grid.fit(X_processed, y)\n",
    "\n",
    "    model_scores2['RidgeRegression'] = {\n",
    "        \"r2\": ridge_grid.cv_results_['mean_test_r2'][ridge_grid.best_index_],\n",
    "        \"rmse\":ridge_grid.cv_results_['mean_test_rmse'][ridge_grid.best_index_]\n",
    "    }   \n",
    "\n",
    "    joblib.dump(ridge_grid, \"models/ridge_regression_model.pkl\")\n",
    "\n",
    "print(\"Best parameters:\", ridge_grid.best_params_)\n",
    "print(\"Average R² score:\", model_scores2['RidgeRegression']['r2'])\n",
    "print(\"Average RMSE:\", model_scores2['RidgeRegression']['rmse'])\n",
    "\n"
   ]
  },
  {
   "cell_type": "markdown",
   "id": "f32680e1",
   "metadata": {},
   "source": [
    "<h2> Model Evaluation"
   ]
  },
  {
   "cell_type": "code",
   "execution_count": 18,
   "id": "2286eadb",
   "metadata": {},
   "outputs": [
    {
     "data": {
      "image/png": "[encoded data removed]",
      "text/plain": [
       "<Figure size 400x200 with 1 Axes>"
      ]
     },
     "metadata": {},
     "output_type": "display_data"
    }
   ],
   "source": [
    "import matplotlib.pyplot as plt\n",
    "\n",
    "model_evaluation = pd.DataFrame(model_scores).T\n",
    "model_evaluation.reset_index(inplace=True)\n",
    "model_evaluation.rename(columns={'index': 'Model'}, inplace=True)\n",
    "\n",
    "model_evaluation.columns = ['Model', 'R2', 'RMSE']\n",
    "\n",
    "model_evaluation['R2'] = model_evaluation['R2'].apply(lambda x: round(x, 4))\n",
    "model_evaluation['RMSE'] = model_evaluation['RMSE'].apply(lambda x: round(x, 4))\n",
    "\n",
    "fig, ax = plt.subplots(figsize=(4, 2))\n",
    "ax.axis('tight')\n",
    "ax.axis('off')\n",
    "table = ax.table(cellText=model_evaluation.values, colLabels=model_evaluation.columns, cellLoc='center', loc='center')\n",
    "table.auto_set_font_size(False)\n",
    "table.set_fontsize(12)\n",
    "table.scale(2,2)\n",
    "plt.show()"
   ]
  },
  {
   "cell_type": "markdown",
   "id": "248d47d9",
   "metadata": {},
   "source": [
    "<h1>All model Evaluation"
   ]
  },
  {
   "cell_type": "code",
   "execution_count": null,
   "id": "30c05dc8",
   "metadata": {},
   "outputs": [
    {
     "name": "stdout",
     "output_type": "stream",
     "text": [
      "Evaluate: LinearRegression\n",
      "Best MSE: 0.0283449602712867\n",
      "Best RMSE: 0.16835961591571388\n",
      "Best R-squared: 0.7580881194124137\n",
      "\n",
      "Evaluate: RidgeRegression\n",
      "Best MSE: 0.010827529217803496\n",
      "Best RMSE: 0.10405541416862217\n",
      "Best R-squared: 0.9075917577542267\n",
      "\n",
      "Evaluate: RandomForest\n",
      "Best MSE: 0.0007925026773515388\n",
      "Best RMSE: 0.028151424073242528\n",
      "Best R-squared: 0.993236335094002\n",
      "\n",
      "Evaluate: XGBoost\n",
      "Best MSE: 0.007564128205273953\n",
      "Best RMSE: 0.08697199667291738\n",
      "Best R-squared: 0.9354434629073354\n",
      "\n"
     ]
    }
   ],
   "source": [
    "models = {\n",
    "    'LinearRegression': linreg_model,\n",
    "    'RidgeRegression': grid_ridge,\n",
    "    'RandomForest': grid_rf,\n",
    "    'XGBoost': grid_xgb\n",
    "}\n",
    "\n",
    "for model_name, model in models.items():\n",
    "    print(f'Evaluate: {model_name}')\n",
    "\n",
    "    if model_name == 'RidgeRegression':\n",
    "        X_train, X_test, y_train, y_test = train_test_split(X_processed_ridge, y, test_size=0.2, random_state=42)\n",
    "    else :\n",
    "        X_train, X_test, y_train, y_test = train_test_split(X_processed_linreg, y, test_size=0.2, random_state=42)\n",
    "\n",
    "    y_pred = models[model_name].predict(X_test)\n",
    "\n",
    "    mse = mean_squared_error(y_test, y_pred)\n",
    "    r2 = r2_score(y_test, y_pred)\n",
    "\n",
    "    print(f'Best MSE: {mse}')\n",
    "    print(f'Best RMSE: {np.sqrt(mse)}')\n",
    "    print(f'Best R-squared: {r2}\\n')\n"
   ]
  },
  {
   "cell_type": "markdown",
   "id": "cc28c482",
   "metadata": {},
   "source": [
    "<h2>POST COVID DATA ONLY"
   ]
  },
  {
   "cell_type": "code",
   "execution_count": null,
   "id": "a17c52e5",
   "metadata": {},
   "outputs": [
    {
     "data": {
      "text/html": [
       "<div>\n",
       "<style scoped>\n",
       "    .dataframe tbody tr th:only-of-type {\n",
       "        vertical-align: middle;\n",
       "    }\n",
       "\n",
       "    .dataframe tbody tr th {\n",
       "        vertical-align: top;\n",
       "    }\n",
       "\n",
       "    .dataframe thead th {\n",
       "        text-align: right;\n",
       "    }\n",
       "</style>\n",
       "<table border=\"1\" class=\"dataframe\">\n",
       "  <thead>\n",
       "    <tr style=\"text-align: right;\">\n",
       "      <th></th>\n",
       "      <th>month</th>\n",
       "      <th>town</th>\n",
       "      <th>flat_type</th>\n",
       "      <th>block</th>\n",
       "      <th>street_name</th>\n",
       "      <th>storey_range</th>\n",
       "      <th>floor_area_sqm</th>\n",
       "      <th>flat_model</th>\n",
       "      <th>lease_commence_date</th>\n",
       "      <th>remaining_lease</th>\n",
       "      <th>resale_price</th>\n",
       "      <th>num_mrts_within_1km</th>\n",
       "      <th>min_dist_to_mrt_km</th>\n",
       "    </tr>\n",
       "    <tr>\n",
       "      <th>_id</th>\n",
       "      <th></th>\n",
       "      <th></th>\n",
       "      <th></th>\n",
       "      <th></th>\n",
       "      <th></th>\n",
       "      <th></th>\n",
       "      <th></th>\n",
       "      <th></th>\n",
       "      <th></th>\n",
       "      <th></th>\n",
       "      <th></th>\n",
       "      <th></th>\n",
       "      <th></th>\n",
       "    </tr>\n",
       "  </thead>\n",
       "  <tbody>\n",
       "    <tr>\n",
       "      <th>64257</th>\n",
       "      <td>2020-01-01</td>\n",
       "      <td>ANG MO KIO</td>\n",
       "      <td>3 ROOM</td>\n",
       "      <td>208</td>\n",
       "      <td>ANG MO KIO AVE 1</td>\n",
       "      <td>04 TO 06</td>\n",
       "      <td>73.0</td>\n",
       "      <td>New Generation</td>\n",
       "      <td>1976</td>\n",
       "      <td>55</td>\n",
       "      <td>265000.0</td>\n",
       "      <td>0</td>\n",
       "      <td>0.902255</td>\n",
       "    </tr>\n",
       "    <tr>\n",
       "      <th>64258</th>\n",
       "      <td>2020-01-01</td>\n",
       "      <td>ANG MO KIO</td>\n",
       "      <td>3 ROOM</td>\n",
       "      <td>307C</td>\n",
       "      <td>ANG MO KIO AVE 1</td>\n",
       "      <td>19 TO 21</td>\n",
       "      <td>70.0</td>\n",
       "      <td>Model A</td>\n",
       "      <td>2012</td>\n",
       "      <td>91</td>\n",
       "      <td>470000.0</td>\n",
       "      <td>1</td>\n",
       "      <td>0.674136</td>\n",
       "    </tr>\n",
       "    <tr>\n",
       "      <th>64259</th>\n",
       "      <td>2020-01-01</td>\n",
       "      <td>ANG MO KIO</td>\n",
       "      <td>3 ROOM</td>\n",
       "      <td>319</td>\n",
       "      <td>ANG MO KIO AVE 1</td>\n",
       "      <td>01 TO 03</td>\n",
       "      <td>73.0</td>\n",
       "      <td>New Generation</td>\n",
       "      <td>1977</td>\n",
       "      <td>56</td>\n",
       "      <td>230000.0</td>\n",
       "      <td>1</td>\n",
       "      <td>0.563682</td>\n",
       "    </tr>\n",
       "    <tr>\n",
       "      <th>64260</th>\n",
       "      <td>2020-01-01</td>\n",
       "      <td>ANG MO KIO</td>\n",
       "      <td>3 ROOM</td>\n",
       "      <td>216</td>\n",
       "      <td>ANG MO KIO AVE 1</td>\n",
       "      <td>04 TO 06</td>\n",
       "      <td>73.0</td>\n",
       "      <td>New Generation</td>\n",
       "      <td>1976</td>\n",
       "      <td>55</td>\n",
       "      <td>280000.0</td>\n",
       "      <td>0</td>\n",
       "      <td>0.836529</td>\n",
       "    </tr>\n",
       "    <tr>\n",
       "      <th>64261</th>\n",
       "      <td>2020-01-01</td>\n",
       "      <td>ANG MO KIO</td>\n",
       "      <td>3 ROOM</td>\n",
       "      <td>556</td>\n",
       "      <td>ANG MO KIO AVE 10</td>\n",
       "      <td>07 TO 09</td>\n",
       "      <td>68.0</td>\n",
       "      <td>New Generation</td>\n",
       "      <td>1980</td>\n",
       "      <td>59</td>\n",
       "      <td>220000.0</td>\n",
       "      <td>0</td>\n",
       "      <td>0.923578</td>\n",
       "    </tr>\n",
       "  </tbody>\n",
       "</table>\n",
       "</div>"
      ],
      "text/plain": [
       "           month        town flat_type block        street_name storey_range  \\\n",
       "_id                                                                            \n",
       "64257 2020-01-01  ANG MO KIO    3 ROOM   208   ANG MO KIO AVE 1     04 TO 06   \n",
       "64258 2020-01-01  ANG MO KIO    3 ROOM  307C   ANG MO KIO AVE 1     19 TO 21   \n",
       "64259 2020-01-01  ANG MO KIO    3 ROOM   319   ANG MO KIO AVE 1     01 TO 03   \n",
       "64260 2020-01-01  ANG MO KIO    3 ROOM   216   ANG MO KIO AVE 1     04 TO 06   \n",
       "64261 2020-01-01  ANG MO KIO    3 ROOM   556  ANG MO KIO AVE 10     07 TO 09   \n",
       "\n",
       "       floor_area_sqm      flat_model  lease_commence_date  remaining_lease  \\\n",
       "_id                                                                           \n",
       "64257            73.0  New Generation                 1976               55   \n",
       "64258            70.0         Model A                 2012               91   \n",
       "64259            73.0  New Generation                 1977               56   \n",
       "64260            73.0  New Generation                 1976               55   \n",
       "64261            68.0  New Generation                 1980               59   \n",
       "\n",
       "       resale_price  num_mrts_within_1km  min_dist_to_mrt_km  \n",
       "_id                                                           \n",
       "64257      265000.0                    0            0.902255  \n",
       "64258      470000.0                    1            0.674136  \n",
       "64259      230000.0                    1            0.563682  \n",
       "64260      280000.0                    0            0.836529  \n",
       "64261      220000.0                    0            0.923578  "
      ]
     },
     "execution_count": 60,
     "metadata": {},
     "output_type": "execute_result"
    }
   ],
   "source": [
    "hdb_resale_data['month'] = pd.to_datetime(hdb_resale_data['month'])\n",
    "hdb_resale_from_2020 = hdb_resale_data[hdb_resale_data['month'] >= '2020-01-01']\n",
    "\n",
    "hdb_resale_from_2020.head()"
   ]
  },
  {
   "cell_type": "code",
   "execution_count": null,
   "id": "3b5ce7c3",
   "metadata": {},
   "outputs": [
    {
     "name": "stdout",
     "output_type": "stream",
     "text": [
      "(148448, 651)\n",
      "(148448,)\n"
     ]
    }
   ],
   "source": [
    "num_cols = hdb_resale_from_2020.select_dtypes(include=['int64', 'float64']).columns.drop(['resale_price'])\n",
    "cat_cols = hdb_resale_from_2020.select_dtypes(include=['object', 'category']).columns.drop(['block', 'street_name'])\n",
    "\n",
    "preprocessor = create_preprocessor(num_cols, cat_cols)\n",
    "\n",
    "X = hdb_resale_from_2020.drop(['month', 'block'], axis=1)\n",
    "\n",
    "X_processed = preprocessor_ridge.fit_transform(X)\n",
    "y = np.log(hdb_resale_from_2020['resale_price'])\n",
    "\n",
    "print(X_processed.shape)\n",
    "print(y.shape)"
   ]
  },
  {
   "cell_type": "code",
   "execution_count": null,
   "id": "92ad43e7",
   "metadata": {},
   "outputs": [],
   "source": [
    "X_train, X_test, y_train, y_test = train_test_split(X_processed, y, test_size=0.2, random_state=42)"
   ]
  },
  {
   "cell_type": "code",
   "execution_count": null,
   "id": "73caeab6",
   "metadata": {},
   "outputs": [
    {
     "name": "stdout",
     "output_type": "stream",
     "text": [
      "Training and tuning Linear_Regression...\n",
      "Fitting 3 folds for each of 1 candidates, totalling 3 fits\n",
      "Best parameters for Linear_Regression: {}\n",
      "Best R2 for Linear_Regression: 0.9495891055166523\n",
      "\n",
      "Training and tuning Ridge_Regression...\n",
      "Fitting 3 folds for each of 5 candidates, totalling 15 fits\n",
      "Best parameters for Ridge_Regression: {'alpha': 0.1}\n",
      "Best R2 for Ridge_Regression: 0.9495922842883253\n",
      "\n",
      "Training and tuning Random_Forest...\n",
      "Fitting 3 folds for each of 4 candidates, totalling 12 fits\n",
      "Best parameters for Random_Forest: {'max_depth': 30, 'min_samples_split': 2, 'n_estimators': 200}\n",
      "Best R2 for Random_Forest: 0.9595860166025952\n",
      "\n",
      "Training and tuning XGB...\n",
      "Fitting 3 folds for each of 4 candidates, totalling 12 fits\n",
      "Best parameters for XGB: {'learning_rate': 0.1, 'max_depth': 6, 'n_estimators': 200}\n",
      "Best R2 for XGB: 0.9457526706108057\n",
      "\n"
     ]
    }
   ],
   "source": [
    "models = {\n",
    "    'Linear_Regression': LinearRegression(),\n",
    "    'Ridge_Regression': Ridge(),\n",
    "    'Random_Forest': RandomForestRegressor(),\n",
    "    'XGB':XGBRegressor()\n",
    "}\n",
    "\n",
    "param_grids = {\n",
    "    'Linear_Regression' : {},\n",
    "    'Ridge_Regression' : {'alpha': [0.01, 0.1, 1, 10, 100]},\n",
    "    'Random_Forest' : {\n",
    "        'n_estimators': [100, 200],\n",
    "        'max_depth': [10, 30],\n",
    "        'min_samples_split': [2],\n",
    "    },\n",
    "    'XGB' : {\n",
    "        'n_estimators': [100, 200],\n",
    "        'learning_rate': [0.1],\n",
    "        'max_depth': [3, 6],\n",
    "    }\n",
    "}\n",
    "\n",
    "cv = KFold(n_splits=3, shuffle=True, random_state=42)\n",
    "\n",
    "grids = {}\n",
    "for model_name, model in models.items():\n",
    "    print(f'Training and tuning {model_name}...')\n",
    "\n",
    "    grids[model_name] = GridSearchCV(\n",
    "        estimator=model,\n",
    "        param_grid=param_grids[model_name],\n",
    "        cv=cv, scoring='r2', n_jobs=-1, verbose=2\n",
    "    )\n",
    "\n",
    "    grids[model_name].fit(X_train, y_train)\n",
    "\n",
    "    print(f'Best parameters for {model_name}: {grids[model_name].best_params_}')\n",
    "    print(f'Best R2 for {model_name}: {grids[model_name].best_score_}\\n')\n",
    "\n",
    "    joblib.dump(grids[model_name], f'models/{model_name.lower()}_from2020_gridsearch.pkl')\n"
   ]
  },
  {
   "cell_type": "code",
   "execution_count": null,
   "id": "08a3dad1",
   "metadata": {},
   "outputs": [
    {
     "name": "stdout",
     "output_type": "stream",
     "text": [
      "Linear_Regression -> Train R2: 0.9504, Test R2: 0.9501, Test RMSE: 0.07\n",
      "Random_Forest -> Train R2: 0.9926, Test R2: 0.9646, Test RMSE: 0.06\n",
      "XGB -> Train R2: 0.9503, Test R2: 0.9471, Test RMSE: 0.08\n"
     ]
    }
   ],
   "source": [
    "from sklearn.metrics import r2_score, mean_squared_error\n",
    "import numpy as np\n",
    "\n",
    "for model_name, grid in grids.items():\n",
    "    y_pred_train = grid.predict(X_train)\n",
    "    y_pred_test = grid.predict(X_test)\n",
    "\n",
    "    r2_train = r2_score(y_train, y_pred_train)\n",
    "    r2_test = r2_score(y_test, y_pred_test)\n",
    "    rmse_test = np.sqrt(mean_squared_error(y_test, y_pred_test))\n",
    "\n",
    "    print(f\"{model_name} -> Train R2: {r2_train:.4f}, Test R2: {r2_test:.4f}, Test RMSE: {rmse_test:.2f}\")\n"
   ]
  },
  {
   "cell_type": "markdown",
   "id": "aeda45b2",
   "metadata": {},
   "source": [
    "Very solid baseline model"
   ]
  },
  {
   "cell_type": "code",
   "execution_count": null,
   "id": "c2186b01",
   "metadata": {},
   "outputs": [
    {
     "data": {
      "text/plain": [
       "array(['04 TO 06', '19 TO 21', '01 TO 03', '07 TO 09', '10 TO 12',\n",
       "       '16 TO 18', '13 TO 15', '28 TO 30', '25 TO 27', '22 TO 24',\n",
       "       '34 TO 36', '31 TO 33', '37 TO 39', '46 TO 48', '40 TO 42',\n",
       "       '49 TO 51', '43 TO 45'], dtype=object)"
      ]
     },
     "execution_count": 97,
     "metadata": {},
     "output_type": "execute_result"
    }
   ],
   "source": [
    "hdb_resale_from_2020['storey_range'].unique()"
   ]
  },
  {
   "cell_type": "code",
   "execution_count": null,
   "id": "3674e3f3",
   "metadata": {},
   "outputs": [],
   "source": [
    "new_data = pd.DataFrame([\n",
    "    { 'month': '2025-08-20', 'town': 'ANG MO KIO', 'flat_type': '3 ROOM', 'block': '124', 'street_name': 'ANG MO KIO AVE 6', 'storey_range': '7 TO 9', 'floor_area_sqm': 67.0, 'flat_model': 'New Generation', 'lease_commence_date': 1977, 'remaining_lease': 52, 'resale_price': 430000.0,  'num_mrts_within_1km': 1, 'min_dist_to_mrt_km': 0.9},\n",
    "    { 'month': '2025-08-20', 'town': 'JURONG EAST', 'flat_type': '3 ROOM', 'block': '247', 'street_name': 'Jurong East St 24', 'storey_range': '13 TO 15', 'floor_area_sqm': 68.0, 'flat_model': 'New Generation', 'lease_commence_date': 1981, 'remaining_lease': 56, 'resale_price': 492888.0,  'num_mrts_within_1km': 2, 'min_dist_to_mrt_km': 0.6}\n",
    "])"
   ]
  },
  {
   "cell_type": "code",
   "execution_count": null,
   "id": "eabeb85f",
   "metadata": {},
   "outputs": [
    {
     "data": {
      "text/plain": [
       "(2, 651)"
      ]
     },
     "execution_count": 113,
     "metadata": {},
     "output_type": "execute_result"
    }
   ],
   "source": [
    "new_X = new_data.drop(['month', 'block'], axis=1)\n",
    "\n",
    "new_X_processed = preprocessor_ridge.transform(new_X)\n",
    "\n",
    "y = np.log(new_data['resale_price'])\n",
    "new_X_processed.shape"
   ]
  },
  {
   "cell_type": "code",
   "execution_count": null,
   "id": "b3fa79eb",
   "metadata": {},
   "outputs": [
    {
     "data": {
      "text/plain": [
       "array([424983.92794162, 385379.0233192 ])"
      ]
     },
     "execution_count": 114,
     "metadata": {},
     "output_type": "execute_result"
    }
   ],
   "source": [
    "np.exp(grids['Linear_Regression'].predict(new_X_processed))"
   ]
  },
  {
   "cell_type": "code",
   "execution_count": null,
   "id": "68f20b1d",
   "metadata": {},
   "outputs": [
    {
     "data": {
      "text/plain": [
       "array([377728.66772408, 385683.19704836])"
      ]
     },
     "execution_count": 101,
     "metadata": {},
     "output_type": "execute_result"
    }
   ],
   "source": [
    "np.exp(grids['Random_Forest'].predict(new_X_processed))"
   ]
  },
  {
   "cell_type": "code",
   "execution_count": null,
   "id": "6aaa6b45",
   "metadata": {},
   "outputs": [
    {
     "data": {
      "text/plain": [
       "array([392296.47, 380569.22], dtype=float32)"
      ]
     },
     "execution_count": 102,
     "metadata": {},
     "output_type": "execute_result"
    }
   ],
   "source": [
    "np.exp(grids['XGB'].predict(new_X_processed))"
   ]
  }
 ],
 "metadata": {
  "kernelspec": {
   "display_name": "venv",
   "language": "python",
   "name": "python3"
  },
  "language_info": {
   "codemirror_mode": {
    "name": "ipython",
    "version": 3
   },
   "file_extension": ".py",
   "mimetype": "text/x-python",
   "name": "python",
   "nbconvert_exporter": "python",
   "pygments_lexer": "ipython3",
   "version": "3.13.2"
  }
 },
 "nbformat": 4,
 "nbformat_minor": 5
}
